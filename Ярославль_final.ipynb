{
  "nbformat": 4,
  "nbformat_minor": 0,
  "metadata": {
    "colab": {
      "name": "Ярославль_final.ipynb",
      "provenance": [],
      "collapsed_sections": [],
      "toc_visible": true
    },
    "kernelspec": {
      "name": "python3",
      "display_name": "Python 3"
    },
    "language_info": {
      "name": "python"
    },
    "gpuClass": "standard"
  },
  "cells": [
    {
      "cell_type": "code",
      "execution_count": null,
      "metadata": {
        "id": "QL0BvZ0NxekR"
      },
      "outputs": [],
      "source": [
        "from google.colab import drive\n",
        "drive.mount('/content/drive')\n",
        "%cd /content/drive/My Drive/Хакатоны/Yaro"
      ]
    },
    {
      "cell_type": "code",
      "source": [
        "!pip install catboost\n",
        "!pip install optuna"
      ],
      "metadata": {
        "id": "or_03ZuGDUyV"
      },
      "execution_count": null,
      "outputs": []
    },
    {
      "cell_type": "code",
      "source": [
        "import pandas as pd \n",
        "from pandas.tseries.offsets import DateOffset\n",
        "pd.options.display.max_columns = 200\n",
        "\n",
        "import numpy as np\n",
        "import glob\n",
        "from tqdm import tqdm\n",
        "\n",
        "from sklearn.preprocessing import StandardScaler, MinMaxScaler\n",
        "from sklearn.model_selection import train_test_split\n",
        "from sklearn.metrics import confusion_matrix, classification_report\n",
        "from sklearn.metrics import roc_auc_score, roc_curve, auc , accuracy_score, f1_score, recall_score, precision_score\n",
        "\n",
        "\n",
        "from sklearn.model_selection import KFold, StratifiedKFold\n",
        "from lightgbm import LGBMClassifier\n",
        "from xgboost import XGBClassifier\n",
        "from sklearn.linear_model import LogisticRegression\n",
        "from catboost import CatBoostClassifier\n",
        "from sklearn.model_selection import GridSearchCV\n",
        "from sklearn.model_selection import RandomizedSearchCV\n",
        "from sklearn.metrics import make_scorer\n",
        "from sklearn.preprocessing import StandardScaler\n",
        "from sklearn.pipeline import make_pipeline\n",
        "from sklearn.ensemble import StackingClassifier\n",
        "\n",
        "import matplotlib.pyplot as plt\n",
        "import seaborn as sns\n",
        "\n",
        "import optuna"
      ],
      "metadata": {
        "id": "FHuUhcaexmih"
      },
      "execution_count": 9,
      "outputs": []
    },
    {
      "cell_type": "markdown",
      "source": [
        "# Анализ и предобработка данных"
      ],
      "metadata": {
        "id": "1Zg3pMCUK40u"
      }
    },
    {
      "cell_type": "markdown",
      "source": [
        "Для начала посмотрим на тренировочные данные:"
      ],
      "metadata": {
        "id": "HzYz8lqPm30l"
      }
    },
    {
      "cell_type": "code",
      "source": [
        "# читаем датасет\n",
        "train = pd.read_csv(\"train.csv\")\n",
        "train = train.drop(['ID', 'ID_y'], axis=1)\n",
        "\n",
        "print(train.shape)\n",
        "train.head(2)"
      ],
      "metadata": {
        "id": "Q7wa6-lCxqxG",
        "colab": {
          "base_uri": "https://localhost:8080/",
          "height": 350
        },
        "outputId": "21284a48-cc4a-474d-d931-1769f3cb52f8"
      },
      "execution_count": 10,
      "outputs": [
        {
          "output_type": "stream",
          "name": "stdout",
          "text": [
            "(955, 37)\n"
          ]
        },
        {
          "output_type": "execute_result",
          "data": {
            "text/plain": [
              "  Пол                      Семья        Этнос Национальность       Религия  \\\n",
              "0   М  в браке в настоящее время  европейская        Русские  Христианство   \n",
              "1   Ж                  в разводе  европейская        Русские  Христианство   \n",
              "\n",
              "                                         Образование  \\\n",
              "0  3 - средняя школа / закон.среднее / выше среднего   \n",
              "1                                            5 - ВУЗ   \n",
              "\n",
              "                          Профессия  Вы работаете?  Выход на пенсию  \\\n",
              "0  низкоквалифицированные работники              1                0   \n",
              "1       дипломированные специалисты              0                0   \n",
              "\n",
              "   Прекращение работы по болезни  Сахарный диабет  Гепатит  Онкология  \\\n",
              "0                              0                0        0          0   \n",
              "1                              0                1        0          0   \n",
              "\n",
              "   Хроническое заболевание легких  Бронжиальная астма  Туберкулез легких   \\\n",
              "0                               0                   0                   0   \n",
              "1                               0                   0                   0   \n",
              "\n",
              "   ВИЧ/СПИД  Регулярный прим лекарственных средств  Травмы за год  Переломы  \\\n",
              "0         0                                      0              0         0   \n",
              "1         0                                      1              0         1   \n",
              "\n",
              "        Статус Курения  Возраст курения  Сигарет в день  Пассивное курение  \\\n",
              "0                Курит             15.0            20.0                  0   \n",
              "1  Никогда не курил(а)              NaN             NaN                  0   \n",
              "\n",
              "  Частота пасс кур                      Алкоголь  Возраст алког  \\\n",
              "0              NaN  употребляю в настоящее время           18.0   \n",
              "1              NaN         никогда не употреблял            NaN   \n",
              "\n",
              "  Время засыпания Время пробуждения  Сон после обеда  Спорт, клубы  \\\n",
              "0        22:00:00          06:00:00                0             0   \n",
              "1        00:00:00          04:00:00                1             0   \n",
              "\n",
              "   Религия, клубы  Артериальная гипертензия  ОНМК  \\\n",
              "0               0                         0     0   \n",
              "1               0                         1     1   \n",
              "\n",
              "   Стенокардия, ИБС, инфаркт миокарда  Сердечная недостаточность  \\\n",
              "0                                   0                          0   \n",
              "1                                   0                          0   \n",
              "\n",
              "   Прочие заболевания сердца  \n",
              "0                          0  \n",
              "1                          0  "
            ],
            "text/html": [
              "\n",
              "  <div id=\"df-911b21a4-8bfb-4fac-9228-4e3f386427d7\">\n",
              "    <div class=\"colab-df-container\">\n",
              "      <div>\n",
              "<style scoped>\n",
              "    .dataframe tbody tr th:only-of-type {\n",
              "        vertical-align: middle;\n",
              "    }\n",
              "\n",
              "    .dataframe tbody tr th {\n",
              "        vertical-align: top;\n",
              "    }\n",
              "\n",
              "    .dataframe thead th {\n",
              "        text-align: right;\n",
              "    }\n",
              "</style>\n",
              "<table border=\"1\" class=\"dataframe\">\n",
              "  <thead>\n",
              "    <tr style=\"text-align: right;\">\n",
              "      <th></th>\n",
              "      <th>Пол</th>\n",
              "      <th>Семья</th>\n",
              "      <th>Этнос</th>\n",
              "      <th>Национальность</th>\n",
              "      <th>Религия</th>\n",
              "      <th>Образование</th>\n",
              "      <th>Профессия</th>\n",
              "      <th>Вы работаете?</th>\n",
              "      <th>Выход на пенсию</th>\n",
              "      <th>Прекращение работы по болезни</th>\n",
              "      <th>Сахарный диабет</th>\n",
              "      <th>Гепатит</th>\n",
              "      <th>Онкология</th>\n",
              "      <th>Хроническое заболевание легких</th>\n",
              "      <th>Бронжиальная астма</th>\n",
              "      <th>Туберкулез легких</th>\n",
              "      <th>ВИЧ/СПИД</th>\n",
              "      <th>Регулярный прим лекарственных средств</th>\n",
              "      <th>Травмы за год</th>\n",
              "      <th>Переломы</th>\n",
              "      <th>Статус Курения</th>\n",
              "      <th>Возраст курения</th>\n",
              "      <th>Сигарет в день</th>\n",
              "      <th>Пассивное курение</th>\n",
              "      <th>Частота пасс кур</th>\n",
              "      <th>Алкоголь</th>\n",
              "      <th>Возраст алког</th>\n",
              "      <th>Время засыпания</th>\n",
              "      <th>Время пробуждения</th>\n",
              "      <th>Сон после обеда</th>\n",
              "      <th>Спорт, клубы</th>\n",
              "      <th>Религия, клубы</th>\n",
              "      <th>Артериальная гипертензия</th>\n",
              "      <th>ОНМК</th>\n",
              "      <th>Стенокардия, ИБС, инфаркт миокарда</th>\n",
              "      <th>Сердечная недостаточность</th>\n",
              "      <th>Прочие заболевания сердца</th>\n",
              "    </tr>\n",
              "  </thead>\n",
              "  <tbody>\n",
              "    <tr>\n",
              "      <th>0</th>\n",
              "      <td>М</td>\n",
              "      <td>в браке в настоящее время</td>\n",
              "      <td>европейская</td>\n",
              "      <td>Русские</td>\n",
              "      <td>Христианство</td>\n",
              "      <td>3 - средняя школа / закон.среднее / выше среднего</td>\n",
              "      <td>низкоквалифицированные работники</td>\n",
              "      <td>1</td>\n",
              "      <td>0</td>\n",
              "      <td>0</td>\n",
              "      <td>0</td>\n",
              "      <td>0</td>\n",
              "      <td>0</td>\n",
              "      <td>0</td>\n",
              "      <td>0</td>\n",
              "      <td>0</td>\n",
              "      <td>0</td>\n",
              "      <td>0</td>\n",
              "      <td>0</td>\n",
              "      <td>0</td>\n",
              "      <td>Курит</td>\n",
              "      <td>15.0</td>\n",
              "      <td>20.0</td>\n",
              "      <td>0</td>\n",
              "      <td>NaN</td>\n",
              "      <td>употребляю в настоящее время</td>\n",
              "      <td>18.0</td>\n",
              "      <td>22:00:00</td>\n",
              "      <td>06:00:00</td>\n",
              "      <td>0</td>\n",
              "      <td>0</td>\n",
              "      <td>0</td>\n",
              "      <td>0</td>\n",
              "      <td>0</td>\n",
              "      <td>0</td>\n",
              "      <td>0</td>\n",
              "      <td>0</td>\n",
              "    </tr>\n",
              "    <tr>\n",
              "      <th>1</th>\n",
              "      <td>Ж</td>\n",
              "      <td>в разводе</td>\n",
              "      <td>европейская</td>\n",
              "      <td>Русские</td>\n",
              "      <td>Христианство</td>\n",
              "      <td>5 - ВУЗ</td>\n",
              "      <td>дипломированные специалисты</td>\n",
              "      <td>0</td>\n",
              "      <td>0</td>\n",
              "      <td>0</td>\n",
              "      <td>1</td>\n",
              "      <td>0</td>\n",
              "      <td>0</td>\n",
              "      <td>0</td>\n",
              "      <td>0</td>\n",
              "      <td>0</td>\n",
              "      <td>0</td>\n",
              "      <td>1</td>\n",
              "      <td>0</td>\n",
              "      <td>1</td>\n",
              "      <td>Никогда не курил(а)</td>\n",
              "      <td>NaN</td>\n",
              "      <td>NaN</td>\n",
              "      <td>0</td>\n",
              "      <td>NaN</td>\n",
              "      <td>никогда не употреблял</td>\n",
              "      <td>NaN</td>\n",
              "      <td>00:00:00</td>\n",
              "      <td>04:00:00</td>\n",
              "      <td>1</td>\n",
              "      <td>0</td>\n",
              "      <td>0</td>\n",
              "      <td>1</td>\n",
              "      <td>1</td>\n",
              "      <td>0</td>\n",
              "      <td>0</td>\n",
              "      <td>0</td>\n",
              "    </tr>\n",
              "  </tbody>\n",
              "</table>\n",
              "</div>\n",
              "      <button class=\"colab-df-convert\" onclick=\"convertToInteractive('df-911b21a4-8bfb-4fac-9228-4e3f386427d7')\"\n",
              "              title=\"Convert this dataframe to an interactive table.\"\n",
              "              style=\"display:none;\">\n",
              "        \n",
              "  <svg xmlns=\"http://www.w3.org/2000/svg\" height=\"24px\"viewBox=\"0 0 24 24\"\n",
              "       width=\"24px\">\n",
              "    <path d=\"M0 0h24v24H0V0z\" fill=\"none\"/>\n",
              "    <path d=\"M18.56 5.44l.94 2.06.94-2.06 2.06-.94-2.06-.94-.94-2.06-.94 2.06-2.06.94zm-11 1L8.5 8.5l.94-2.06 2.06-.94-2.06-.94L8.5 2.5l-.94 2.06-2.06.94zm10 10l.94 2.06.94-2.06 2.06-.94-2.06-.94-.94-2.06-.94 2.06-2.06.94z\"/><path d=\"M17.41 7.96l-1.37-1.37c-.4-.4-.92-.59-1.43-.59-.52 0-1.04.2-1.43.59L10.3 9.45l-7.72 7.72c-.78.78-.78 2.05 0 2.83L4 21.41c.39.39.9.59 1.41.59.51 0 1.02-.2 1.41-.59l7.78-7.78 2.81-2.81c.8-.78.8-2.07 0-2.86zM5.41 20L4 18.59l7.72-7.72 1.47 1.35L5.41 20z\"/>\n",
              "  </svg>\n",
              "      </button>\n",
              "      \n",
              "  <style>\n",
              "    .colab-df-container {\n",
              "      display:flex;\n",
              "      flex-wrap:wrap;\n",
              "      gap: 12px;\n",
              "    }\n",
              "\n",
              "    .colab-df-convert {\n",
              "      background-color: #E8F0FE;\n",
              "      border: none;\n",
              "      border-radius: 50%;\n",
              "      cursor: pointer;\n",
              "      display: none;\n",
              "      fill: #1967D2;\n",
              "      height: 32px;\n",
              "      padding: 0 0 0 0;\n",
              "      width: 32px;\n",
              "    }\n",
              "\n",
              "    .colab-df-convert:hover {\n",
              "      background-color: #E2EBFA;\n",
              "      box-shadow: 0px 1px 2px rgba(60, 64, 67, 0.3), 0px 1px 3px 1px rgba(60, 64, 67, 0.15);\n",
              "      fill: #174EA6;\n",
              "    }\n",
              "\n",
              "    [theme=dark] .colab-df-convert {\n",
              "      background-color: #3B4455;\n",
              "      fill: #D2E3FC;\n",
              "    }\n",
              "\n",
              "    [theme=dark] .colab-df-convert:hover {\n",
              "      background-color: #434B5C;\n",
              "      box-shadow: 0px 1px 3px 1px rgba(0, 0, 0, 0.15);\n",
              "      filter: drop-shadow(0px 1px 2px rgba(0, 0, 0, 0.3));\n",
              "      fill: #FFFFFF;\n",
              "    }\n",
              "  </style>\n",
              "\n",
              "      <script>\n",
              "        const buttonEl =\n",
              "          document.querySelector('#df-911b21a4-8bfb-4fac-9228-4e3f386427d7 button.colab-df-convert');\n",
              "        buttonEl.style.display =\n",
              "          google.colab.kernel.accessAllowed ? 'block' : 'none';\n",
              "\n",
              "        async function convertToInteractive(key) {\n",
              "          const element = document.querySelector('#df-911b21a4-8bfb-4fac-9228-4e3f386427d7');\n",
              "          const dataTable =\n",
              "            await google.colab.kernel.invokeFunction('convertToInteractive',\n",
              "                                                     [key], {});\n",
              "          if (!dataTable) return;\n",
              "\n",
              "          const docLinkHtml = 'Like what you see? Visit the ' +\n",
              "            '<a target=\"_blank\" href=https://colab.research.google.com/notebooks/data_table.ipynb>data table notebook</a>'\n",
              "            + ' to learn more about interactive tables.';\n",
              "          element.innerHTML = '';\n",
              "          dataTable['output_type'] = 'display_data';\n",
              "          await google.colab.output.renderOutput(dataTable, element);\n",
              "          const docLink = document.createElement('div');\n",
              "          docLink.innerHTML = docLinkHtml;\n",
              "          element.appendChild(docLink);\n",
              "        }\n",
              "      </script>\n",
              "    </div>\n",
              "  </div>\n",
              "  "
            ]
          },
          "metadata": {},
          "execution_count": 10
        }
      ]
    },
    {
      "cell_type": "markdown",
      "source": [
        "Оценим наличие корреляции в зависимых переменных:"
      ],
      "metadata": {
        "id": "Y7L3bcnKnA6N"
      }
    },
    {
      "cell_type": "code",
      "source": [
        "plt.figure(figsize=(4,4)) \n",
        "sns.heatmap(train[['Артериальная гипертензия', 'ОНМК', 'Стенокардия, ИБС, инфаркт миокарда', \n",
        "                  'Сердечная недостаточность', 'Прочие заболевания сердца',]].corr(), annot=True, cmap='gist_heat', linewidths = 2)\n",
        "plt.show()"
      ],
      "metadata": {
        "id": "pMIBaTTEDK0Q",
        "colab": {
          "base_uri": "https://localhost:8080/",
          "height": 462
        },
        "outputId": "a4d3a55c-9b9d-4cfa-e745-e135736fe320"
      },
      "execution_count": 11,
      "outputs": [
        {
          "output_type": "display_data",
          "data": {
            "text/plain": [
              "<Figure size 288x288 with 2 Axes>"
            ],
            "image/png": "[encoded data removed]"
          },
          "metadata": {
            "needs_background": "light"
          }
        }
      ]
    },
    {
      "cell_type": "markdown",
      "source": [
        "Введем 2 новых бинарных переменных: \n",
        "- засыпает ли человек после 22:00 или нет\n",
        "- просыпается ли человек после 9:00 или нет"
      ],
      "metadata": {
        "id": "ZuNTAlKTnPTw"
      }
    },
    {
      "cell_type": "code",
      "source": [
        "train['Засыпает после 22'] = np.where((train['Время засыпания'].isin(['22:00:00', '21:00:00','21:30:00', '20:30:00', '20:00:00'])), 0, train['Время засыпания'])\n",
        "train['Засыпает после 22'] = np.where((train['Засыпает после 22'] != 0), 1, train['Засыпает после 22'])\n",
        "\n",
        "train['Встает после 9'] = np.where((train['Время пробуждения'].isin(['10:00:00', '09:30:00', '12:00:00', '11:00:00','10:30:00', '09:00:00'])), 1, train['Время пробуждения'])\n",
        "train['Встает после 9'] = np.where((train['Встает после 9'] != 1), 0, train['Встает после 9'])"
      ],
      "metadata": {
        "id": "gXjhtcT6EBPw"
      },
      "execution_count": 12,
      "outputs": []
    },
    {
      "cell_type": "code",
      "source": [
        "train['Засыпает после 22'].value_counts()"
      ],
      "metadata": {
        "colab": {
          "base_uri": "https://localhost:8080/"
        },
        "id": "6fSjNaGl_Tqh",
        "outputId": "a647d2c1-ff45-4d5f-ec70-656eca27ccd4"
      },
      "execution_count": 13,
      "outputs": [
        {
          "output_type": "execute_result",
          "data": {
            "text/plain": [
              "1    737\n",
              "0    218\n",
              "Name: Засыпает после 22, dtype: int64"
            ]
          },
          "metadata": {},
          "execution_count": 13
        }
      ]
    },
    {
      "cell_type": "code",
      "source": [
        "train['Встает после 9'].value_counts()"
      ],
      "metadata": {
        "colab": {
          "base_uri": "https://localhost:8080/"
        },
        "id": "CdkS0QBn-beB",
        "outputId": "8f339182-e878-4f70-ee93-ccc1dcb4a6af"
      },
      "execution_count": 14,
      "outputs": [
        {
          "output_type": "execute_result",
          "data": {
            "text/plain": [
              "0    849\n",
              "1    106\n",
              "Name: Встает после 9, dtype: int64"
            ]
          },
          "metadata": {},
          "execution_count": 14
        }
      ]
    },
    {
      "cell_type": "markdown",
      "source": [
        "Далее введем переменную продолжительности сна:"
      ],
      "metadata": {
        "id": "HufNgvXpnnCP"
      }
    },
    {
      "cell_type": "code",
      "source": [
        "train['Время засыпания'] = train['Время засыпания'].astype('datetime64[ns]')\n",
        "train['Время засыпания'].loc[train['Время засыпания'].dt.hour.isin([20, 21, 22, 23])] = train['Время засыпания'].dt.to_period('ns').dt.to_timestamp() - DateOffset(days=1)\n",
        "\n",
        "train['Время пробуждения'] = train['Время пробуждения'].astype('datetime64[ns]')\n",
        "train['Время сна'] = (train['Время пробуждения'] - train['Время засыпания']).astype('timedelta64[h]')\n",
        "\n",
        "#там где ошибочно стоит отрицательное время сна заменим на самое частотное(7 часов)\n",
        "train['Время сна'] = np.where((train['Время сна'] <= 0.0), 7.0, train['Время сна'])"
      ],
      "metadata": {
        "id": "4T8v_ypWZkXW"
      },
      "execution_count": null,
      "outputs": []
    },
    {
      "cell_type": "markdown",
      "source": [
        "Сделаем переменную \"Национальность\" бинарной:"
      ],
      "metadata": {
        "id": "lS4HJyu5onxA"
      }
    },
    {
      "cell_type": "code",
      "source": [
        "train['Национальность'] = np.where((train['Национальность'] != 'Русские'), 'Другое', train['Национальность'])"
      ],
      "metadata": {
        "id": "GiIaHi8hom2A"
      },
      "execution_count": 16,
      "outputs": []
    },
    {
      "cell_type": "markdown",
      "source": [
        "Еще 2 небольших изменения:\n",
        "- удалим уже ненужные переменные 'Время засыпания' и 'Время пробуждения'\n",
        "- удалим строку с пропуском в графе 'Пол'"
      ],
      "metadata": {
        "id": "0L2_5_RBo8z7"
      }
    },
    {
      "cell_type": "code",
      "source": [
        "train = train.drop(['Время засыпания', 'Время пробуждения'], axis=1)\n",
        "train = train[train['Пол'].notna()]"
      ],
      "metadata": {
        "id": "kPdhFePbn81d"
      },
      "execution_count": 17,
      "outputs": []
    },
    {
      "cell_type": "markdown",
      "source": [
        "Все пропуски заменим на 0, так как везде по смыслу так и должно быть: "
      ],
      "metadata": {
        "id": "5S2ev_3YpgLO"
      }
    },
    {
      "cell_type": "code",
      "source": [
        "train.fillna(0, inplace=True)"
      ],
      "metadata": {
        "id": "wmKCXkUepsCd"
      },
      "execution_count": 18,
      "outputs": []
    },
    {
      "cell_type": "code",
      "source": [
        ""
      ],
      "metadata": {
        "id": "EuvkcX3EptvS"
      },
      "execution_count": null,
      "outputs": []
    },
    {
      "cell_type": "code",
      "source": [
        ""
      ],
      "metadata": {
        "id": "bS6Lhkkbptyx"
      },
      "execution_count": null,
      "outputs": []
    },
    {
      "cell_type": "markdown",
      "source": [
        "Теперь посмотрим на тестовый датасет и повторим все операции, которые применяли для тренировочного:"
      ],
      "metadata": {
        "id": "7MIvmTpmnxja"
      }
    },
    {
      "cell_type": "code",
      "source": [
        "# читаем датасет\n",
        "test = pd.read_csv(\"test.csv\")\n",
        "test = test.drop(['ID'], axis=1)\n",
        "\n",
        "print(test.shape)\n",
        "test.head(2)"
      ],
      "metadata": {
        "colab": {
          "base_uri": "https://localhost:8080/",
          "height": 367
        },
        "id": "atnULYdRqxPq",
        "outputId": "e2ae8a90-aa99-4b27-f938-494b05c5207b"
      },
      "execution_count": 19,
      "outputs": [
        {
          "output_type": "stream",
          "name": "stdout",
          "text": [
            "(638, 32)\n"
          ]
        },
        {
          "output_type": "execute_result",
          "data": {
            "text/plain": [
              "  Пол           Семья        Этнос Национальность       Религия  \\\n",
              "0   Ж  вдовец / вдова  европейская        Русские  Христианство   \n",
              "1   Ж       в разводе  европейская        Русские  Христианство   \n",
              "\n",
              "                                         Образование  \\\n",
              "0  3 - средняя школа / закон.среднее / выше среднего   \n",
              "1                                            5 - ВУЗ   \n",
              "\n",
              "                                           Профессия  Вы работаете?  \\\n",
              "0  ремесленники и представители других отраслей п...              1   \n",
              "1                        дипломированные специалисты              0   \n",
              "\n",
              "   Выход на пенсию  Прекращение работы по болезни  Сахарный диабет  Гепатит  \\\n",
              "0                0                              0                0        0   \n",
              "1                1                              0                0        0   \n",
              "\n",
              "   Онкология  Хроническое заболевание легких  Бронжиальная астма  \\\n",
              "0          0                               0                   0   \n",
              "1          0                               0                   0   \n",
              "\n",
              "   Туберкулез легких   ВИЧ/СПИД  Регулярный прим лекарственных средств  \\\n",
              "0                   0         0                                      1   \n",
              "1                   0         0                                      1   \n",
              "\n",
              "   Травмы за год  Переломы       Статус Курения  Возраст курения  \\\n",
              "0              1         1  Никогда не курил(а)              NaN   \n",
              "1              0         0  Никогда не курил(а)              NaN   \n",
              "\n",
              "   Сигарет в день  Пассивное курение Частота пасс кур  \\\n",
              "0             NaN                  0              NaN   \n",
              "1             NaN                  0              NaN   \n",
              "\n",
              "                       Алкоголь  Возраст алког Время засыпания  \\\n",
              "0  употребляю в настоящее время           23.0        21:30:00   \n",
              "1  употребляю в настоящее время           22.0        00:00:00   \n",
              "\n",
              "  Время пробуждения  Сон после обеда  Спорт, клубы  Религия, клубы  \n",
              "0          05:00:00                0             1               1  \n",
              "1          09:00:00                0             0               0  "
            ],
            "text/html": [
              "\n",
              "  <div id=\"df-29c59a94-dcc2-4847-b3fc-acc2e154ecc1\">\n",
              "    <div class=\"colab-df-container\">\n",
              "      <div>\n",
              "<style scoped>\n",
              "    .dataframe tbody tr th:only-of-type {\n",
              "        vertical-align: middle;\n",
              "    }\n",
              "\n",
              "    .dataframe tbody tr th {\n",
              "        vertical-align: top;\n",
              "    }\n",
              "\n",
              "    .dataframe thead th {\n",
              "        text-align: right;\n",
              "    }\n",
              "</style>\n",
              "<table border=\"1\" class=\"dataframe\">\n",
              "  <thead>\n",
              "    <tr style=\"text-align: right;\">\n",
              "      <th></th>\n",
              "      <th>Пол</th>\n",
              "      <th>Семья</th>\n",
              "      <th>Этнос</th>\n",
              "      <th>Национальность</th>\n",
              "      <th>Религия</th>\n",
              "      <th>Образование</th>\n",
              "      <th>Профессия</th>\n",
              "      <th>Вы работаете?</th>\n",
              "      <th>Выход на пенсию</th>\n",
              "      <th>Прекращение работы по болезни</th>\n",
              "      <th>Сахарный диабет</th>\n",
              "      <th>Гепатит</th>\n",
              "      <th>Онкология</th>\n",
              "      <th>Хроническое заболевание легких</th>\n",
              "      <th>Бронжиальная астма</th>\n",
              "      <th>Туберкулез легких</th>\n",
              "      <th>ВИЧ/СПИД</th>\n",
              "      <th>Регулярный прим лекарственных средств</th>\n",
              "      <th>Травмы за год</th>\n",
              "      <th>Переломы</th>\n",
              "      <th>Статус Курения</th>\n",
              "      <th>Возраст курения</th>\n",
              "      <th>Сигарет в день</th>\n",
              "      <th>Пассивное курение</th>\n",
              "      <th>Частота пасс кур</th>\n",
              "      <th>Алкоголь</th>\n",
              "      <th>Возраст алког</th>\n",
              "      <th>Время засыпания</th>\n",
              "      <th>Время пробуждения</th>\n",
              "      <th>Сон после обеда</th>\n",
              "      <th>Спорт, клубы</th>\n",
              "      <th>Религия, клубы</th>\n",
              "    </tr>\n",
              "  </thead>\n",
              "  <tbody>\n",
              "    <tr>\n",
              "      <th>0</th>\n",
              "      <td>Ж</td>\n",
              "      <td>вдовец / вдова</td>\n",
              "      <td>европейская</td>\n",
              "      <td>Русские</td>\n",
              "      <td>Христианство</td>\n",
              "      <td>3 - средняя школа / закон.среднее / выше среднего</td>\n",
              "      <td>ремесленники и представители других отраслей п...</td>\n",
              "      <td>1</td>\n",
              "      <td>0</td>\n",
              "      <td>0</td>\n",
              "      <td>0</td>\n",
              "      <td>0</td>\n",
              "      <td>0</td>\n",
              "      <td>0</td>\n",
              "      <td>0</td>\n",
              "      <td>0</td>\n",
              "      <td>0</td>\n",
              "      <td>1</td>\n",
              "      <td>1</td>\n",
              "      <td>1</td>\n",
              "      <td>Никогда не курил(а)</td>\n",
              "      <td>NaN</td>\n",
              "      <td>NaN</td>\n",
              "      <td>0</td>\n",
              "      <td>NaN</td>\n",
              "      <td>употребляю в настоящее время</td>\n",
              "      <td>23.0</td>\n",
              "      <td>21:30:00</td>\n",
              "      <td>05:00:00</td>\n",
              "      <td>0</td>\n",
              "      <td>1</td>\n",
              "      <td>1</td>\n",
              "    </tr>\n",
              "    <tr>\n",
              "      <th>1</th>\n",
              "      <td>Ж</td>\n",
              "      <td>в разводе</td>\n",
              "      <td>европейская</td>\n",
              "      <td>Русские</td>\n",
              "      <td>Христианство</td>\n",
              "      <td>5 - ВУЗ</td>\n",
              "      <td>дипломированные специалисты</td>\n",
              "      <td>0</td>\n",
              "      <td>1</td>\n",
              "      <td>0</td>\n",
              "      <td>0</td>\n",
              "      <td>0</td>\n",
              "      <td>0</td>\n",
              "      <td>0</td>\n",
              "      <td>0</td>\n",
              "      <td>0</td>\n",
              "      <td>0</td>\n",
              "      <td>1</td>\n",
              "      <td>0</td>\n",
              "      <td>0</td>\n",
              "      <td>Никогда не курил(а)</td>\n",
              "      <td>NaN</td>\n",
              "      <td>NaN</td>\n",
              "      <td>0</td>\n",
              "      <td>NaN</td>\n",
              "      <td>употребляю в настоящее время</td>\n",
              "      <td>22.0</td>\n",
              "      <td>00:00:00</td>\n",
              "      <td>09:00:00</td>\n",
              "      <td>0</td>\n",
              "      <td>0</td>\n",
              "      <td>0</td>\n",
              "    </tr>\n",
              "  </tbody>\n",
              "</table>\n",
              "</div>\n",
              "      <button class=\"colab-df-convert\" onclick=\"convertToInteractive('df-29c59a94-dcc2-4847-b3fc-acc2e154ecc1')\"\n",
              "              title=\"Convert this dataframe to an interactive table.\"\n",
              "              style=\"display:none;\">\n",
              "        \n",
              "  <svg xmlns=\"http://www.w3.org/2000/svg\" height=\"24px\"viewBox=\"0 0 24 24\"\n",
              "       width=\"24px\">\n",
              "    <path d=\"M0 0h24v24H0V0z\" fill=\"none\"/>\n",
              "    <path d=\"M18.56 5.44l.94 2.06.94-2.06 2.06-.94-2.06-.94-.94-2.06-.94 2.06-2.06.94zm-11 1L8.5 8.5l.94-2.06 2.06-.94-2.06-.94L8.5 2.5l-.94 2.06-2.06.94zm10 10l.94 2.06.94-2.06 2.06-.94-2.06-.94-.94-2.06-.94 2.06-2.06.94z\"/><path d=\"M17.41 7.96l-1.37-1.37c-.4-.4-.92-.59-1.43-.59-.52 0-1.04.2-1.43.59L10.3 9.45l-7.72 7.72c-.78.78-.78 2.05 0 2.83L4 21.41c.39.39.9.59 1.41.59.51 0 1.02-.2 1.41-.59l7.78-7.78 2.81-2.81c.8-.78.8-2.07 0-2.86zM5.41 20L4 18.59l7.72-7.72 1.47 1.35L5.41 20z\"/>\n",
              "  </svg>\n",
              "      </button>\n",
              "      \n",
              "  <style>\n",
              "    .colab-df-container {\n",
              "      display:flex;\n",
              "      flex-wrap:wrap;\n",
              "      gap: 12px;\n",
              "    }\n",
              "\n",
              "    .colab-df-convert {\n",
              "      background-color: #E8F0FE;\n",
              "      border: none;\n",
              "      border-radius: 50%;\n",
              "      cursor: pointer;\n",
              "      display: none;\n",
              "      fill: #1967D2;\n",
              "      height: 32px;\n",
              "      padding: 0 0 0 0;\n",
              "      width: 32px;\n",
              "    }\n",
              "\n",
              "    .colab-df-convert:hover {\n",
              "      background-color: #E2EBFA;\n",
              "      box-shadow: 0px 1px 2px rgba(60, 64, 67, 0.3), 0px 1px 3px 1px rgba(60, 64, 67, 0.15);\n",
              "      fill: #174EA6;\n",
              "    }\n",
              "\n",
              "    [theme=dark] .colab-df-convert {\n",
              "      background-color: #3B4455;\n",
              "      fill: #D2E3FC;\n",
              "    }\n",
              "\n",
              "    [theme=dark] .colab-df-convert:hover {\n",
              "      background-color: #434B5C;\n",
              "      box-shadow: 0px 1px 3px 1px rgba(0, 0, 0, 0.15);\n",
              "      filter: drop-shadow(0px 1px 2px rgba(0, 0, 0, 0.3));\n",
              "      fill: #FFFFFF;\n",
              "    }\n",
              "  </style>\n",
              "\n",
              "      <script>\n",
              "        const buttonEl =\n",
              "          document.querySelector('#df-29c59a94-dcc2-4847-b3fc-acc2e154ecc1 button.colab-df-convert');\n",
              "        buttonEl.style.display =\n",
              "          google.colab.kernel.accessAllowed ? 'block' : 'none';\n",
              "\n",
              "        async function convertToInteractive(key) {\n",
              "          const element = document.querySelector('#df-29c59a94-dcc2-4847-b3fc-acc2e154ecc1');\n",
              "          const dataTable =\n",
              "            await google.colab.kernel.invokeFunction('convertToInteractive',\n",
              "                                                     [key], {});\n",
              "          if (!dataTable) return;\n",
              "\n",
              "          const docLinkHtml = 'Like what you see? Visit the ' +\n",
              "            '<a target=\"_blank\" href=https://colab.research.google.com/notebooks/data_table.ipynb>data table notebook</a>'\n",
              "            + ' to learn more about interactive tables.';\n",
              "          element.innerHTML = '';\n",
              "          dataTable['output_type'] = 'display_data';\n",
              "          await google.colab.output.renderOutput(dataTable, element);\n",
              "          const docLink = document.createElement('div');\n",
              "          docLink.innerHTML = docLinkHtml;\n",
              "          element.appendChild(docLink);\n",
              "        }\n",
              "      </script>\n",
              "    </div>\n",
              "  </div>\n",
              "  "
            ]
          },
          "metadata": {},
          "execution_count": 19
        }
      ]
    },
    {
      "cell_type": "code",
      "source": [
        "test['Засыпает после 22'] = np.where((test['Время засыпания'].isin(['22:00:00', '21:00:00', '21:50:00''21:30:00', '20:30:00', '20:00:00'])), 0, test['Время засыпания'])\n",
        "test['Засыпает после 22'] = np.where((test['Засыпает после 22'] != 0), 1, test['Засыпает после 22'])\n",
        "\n",
        "\n",
        "test['Встает после 9'] = np.where((test['Время пробуждения'].isin(['10:00:00', '09:30:00', '12:00:00', '11:00:00','10:30:00', '09:00:00'])), 1, test['Время пробуждения'])\n",
        "test['Встает после 9'] = np.where((test['Встает после 9'] != 1), 0, test['Встает после 9'])"
      ],
      "metadata": {
        "id": "_BdXD954A-ce"
      },
      "execution_count": 20,
      "outputs": []
    },
    {
      "cell_type": "code",
      "source": [
        "test['Время засыпания'] = test['Время засыпания'].astype('datetime64[ns]')\n",
        "test['Время засыпания'].loc[test['Время засыпания'].dt.hour.isin([20, 21, 22, 23])] = test['Время засыпания'].dt.to_period('ns').dt.to_timestamp() - DateOffset(days=1)\n",
        "\n",
        "test['Время пробуждения'] = test['Время пробуждения'].astype('datetime64[ns]')\n",
        "test['Время сна'] = (test['Время пробуждения'] - test['Время засыпания']).astype('timedelta64[h]')\n",
        "\n",
        "#там где ошибочно стоит отрицательное время сна заменим на самое частотное(8 часов)\n",
        "test['Время сна'] = np.where((test['Время сна'] <= 0.0), 8.0, test['Время сна'])"
      ],
      "metadata": {
        "id": "aZSOTatkq0wj"
      },
      "execution_count": null,
      "outputs": []
    },
    {
      "cell_type": "code",
      "source": [
        "test = test.drop(['Время засыпания', 'Время пробуждения'], axis=1)\n",
        "test['Национальность'] = np.where((test['Национальность'] != 'Русские'), 'Другое', test['Национальность'])\n",
        "test.fillna(0, inplace=True)"
      ],
      "metadata": {
        "id": "unz6Z61gsfVG"
      },
      "execution_count": 22,
      "outputs": []
    },
    {
      "cell_type": "code",
      "source": [
        ""
      ],
      "metadata": {
        "id": "FkwRnNubqqBt"
      },
      "execution_count": null,
      "outputs": []
    },
    {
      "cell_type": "markdown",
      "source": [
        "Объединим тренировочную и тестовую выборки:"
      ],
      "metadata": {
        "id": "hTGKH6Uxqt3k"
      }
    },
    {
      "cell_type": "code",
      "source": [
        "df = train.append(test)\n",
        "df.reset_index(drop=True, inplace=True)"
      ],
      "metadata": {
        "id": "U2BLmFcLHI7n"
      },
      "execution_count": 23,
      "outputs": []
    },
    {
      "cell_type": "markdown",
      "source": [
        "Закодируем категориальные переменные с помощью one-hot encoding:"
      ],
      "metadata": {
        "id": "eboUaGMiqzlk"
      }
    },
    {
      "cell_type": "code",
      "source": [
        "categorical_columns = [col for col in df.columns if df[col].dtype == 'object']\n",
        "df = pd.get_dummies(df, columns=categorical_columns)\n",
        "df.tail(2)"
      ],
      "metadata": {
        "colab": {
          "base_uri": "https://localhost:8080/",
          "height": 350
        },
        "id": "i-85LZp5HMtx",
        "outputId": "0113f250-20c4-4eeb-fcd8-0783eea45902"
      },
      "execution_count": 24,
      "outputs": [
        {
          "output_type": "execute_result",
          "data": {
            "text/plain": [
              "      Вы работаете?  Выход на пенсию  Прекращение работы по болезни  \\\n",
              "1590              1                0                              0   \n",
              "1591              1                0                              0   \n",
              "\n",
              "      Сахарный диабет  Гепатит  Онкология  Хроническое заболевание легких  \\\n",
              "1590                0        0          0                               0   \n",
              "1591                0        1          0                               1   \n",
              "\n",
              "      Бронжиальная астма  Туберкулез легких   ВИЧ/СПИД  \\\n",
              "1590                   0                   0         0   \n",
              "1591                   0                   0         0   \n",
              "\n",
              "      Регулярный прим лекарственных средств  Травмы за год  Переломы  \\\n",
              "1590                                      0              0         0   \n",
              "1591                                      1              0         1   \n",
              "\n",
              "      Возраст курения  Сигарет в день  Пассивное курение  Возраст алког  \\\n",
              "1590              0.0             0.0                  1            0.0   \n",
              "1591              0.0             0.0                  0           17.0   \n",
              "\n",
              "      Сон после обеда  Спорт, клубы  Религия, клубы  Артериальная гипертензия  \\\n",
              "1590                0             0               0                       NaN   \n",
              "1591                0             0               0                       NaN   \n",
              "\n",
              "      ОНМК  Стенокардия, ИБС, инфаркт миокарда  Сердечная недостаточность  \\\n",
              "1590   NaN                                 NaN                        NaN   \n",
              "1591   NaN                                 NaN                        NaN   \n",
              "\n",
              "      Прочие заболевания сердца  Засыпает после 22  Встает после 9  Время сна  \\\n",
              "1590                        NaN                  1               0        8.0   \n",
              "1591                        NaN                  1               0        5.0   \n",
              "\n",
              "      Пол_Ж  Пол_М  Семья_в браке в настоящее время  Семья_в разводе  \\\n",
              "1590      1      0                                1                0   \n",
              "1591      1      0                                0                1   \n",
              "\n",
              "      Семья_вдовец / вдова  Семья_гражданский брак / проживание с партнером  \\\n",
              "1590                     0                                                0   \n",
              "1591                     0                                                0   \n",
              "\n",
              "      Семья_никогда не был(а) в браке  \\\n",
              "1590                                0   \n",
              "1591                                0   \n",
              "\n",
              "      Семья_раздельное проживание (официально не разведены)  \\\n",
              "1590                                                  0       \n",
              "1591                                                  0       \n",
              "\n",
              "      Этнос_другая азиатская (Корея, Малайзия, Таиланд, Вьетнам, Казахстан, Киргизия, Туркмения, Узбекистан, Таджикистан)  \\\n",
              "1590                                                  0                                                                     \n",
              "1591                                                  0                                                                     \n",
              "\n",
              "      Этнос_европейская  \\\n",
              "1590                  1   \n",
              "1591                  1   \n",
              "\n",
              "      Этнос_прочее (любая иная этно-расовая группа, не представленная выше)  \\\n",
              "1590                                                  0                       \n",
              "1591                                                  0                       \n",
              "\n",
              "      Национальность_Другое  Национальность_Русские  \\\n",
              "1590                      0                       1   \n",
              "1591                      0                       1   \n",
              "\n",
              "      Религия_Атеист / агностик  Религия_Другое  Религия_Индуизм  \\\n",
              "1590                          0               0                0   \n",
              "1591                          0               0                0   \n",
              "\n",
              "      Религия_Ислам  Религия_Нет  Религия_Христианство  \\\n",
              "1590              0            0                     1   \n",
              "1591              0            0                     1   \n",
              "\n",
              "      Образование_2 - начальная школа  \\\n",
              "1590                                0   \n",
              "1591                                0   \n",
              "\n",
              "      Образование_3 - средняя школа / закон.среднее / выше среднего  \\\n",
              "1590                                                  0               \n",
              "1591                                                  0               \n",
              "\n",
              "      Образование_4 - профессиональное училище  Образование_5 - ВУЗ  \\\n",
              "1590                                         1                    0   \n",
              "1591                                         1                    0   \n",
              "\n",
              "      Профессия_ведение домашнего хозяйства  Профессия_вооруженные силы  \\\n",
              "1590                                      0                           0   \n",
              "1591                                      0                           0   \n",
              "\n",
              "      Профессия_дипломированные специалисты  \\\n",
              "1590                                      0   \n",
              "1591                                      0   \n",
              "\n",
              "      Профессия_квалифицированные работники сельского хозяйства и рыболовного  \\\n",
              "1590                                                  0                         \n",
              "1591                                                  0                         \n",
              "\n",
              "      Профессия_низкоквалифицированные работники  \\\n",
              "1590                                           0   \n",
              "1591                                           0   \n",
              "\n",
              "      Профессия_операторы и монтажники установок и машинного оборудования  \\\n",
              "1590                                                  0                     \n",
              "1591                                                  0                     \n",
              "\n",
              "      Профессия_представители   законодат.   органов   власти,  высокопостав. долж.лица и менеджеры  \\\n",
              "1590                                                  0                                               \n",
              "1591                                                  0                                               \n",
              "\n",
              "      Профессия_работники,  занятые в сфере обслуживания, торговые работники магазинов и рынков  \\\n",
              "1590                                                  1                                           \n",
              "1591                                                  0                                           \n",
              "\n",
              "      Профессия_ремесленники и представители других отраслей промышленности  \\\n",
              "1590                                                  0                       \n",
              "1591                                                  0                       \n",
              "\n",
              "      Профессия_служащие  Профессия_техники и младшие специалисты  \\\n",
              "1590                   0                                        0   \n",
              "1591                   0                                        1   \n",
              "\n",
              "      Статус Курения_Бросил(а)  Статус Курения_Курит  \\\n",
              "1590                         0                     0   \n",
              "1591                         0                     0   \n",
              "\n",
              "      Статус Курения_Никогда не курил  Статус Курения_Никогда не курил(а)  \\\n",
              "1590                                0                                   1   \n",
              "1591                                0                                   1   \n",
              "\n",
              "      Частота пасс кур_0  Частота пасс кур_1-2 раза в неделю  \\\n",
              "1590                   0                                   0   \n",
              "1591                   1                                   0   \n",
              "\n",
              "      Частота пасс кур_2-3 раза в день  Частота пасс кур_3-6 раз в неделю  \\\n",
              "1590                                 1                                  0   \n",
              "1591                                 0                                  0   \n",
              "\n",
              "      Частота пасс кур_4 и более раз в день  \\\n",
              "1590                                      0   \n",
              "1591                                      0   \n",
              "\n",
              "      Частота пасс кур_не менее 1 раза в день  Алкоголь_никогда не употреблял  \\\n",
              "1590                                        0                               1   \n",
              "1591                                        0                               0   \n",
              "\n",
              "      Алкоголь_ранее употреблял  Алкоголь_употребляю в настоящее время  \n",
              "1590                          0                                      0  \n",
              "1591                          0                                      1  "
            ],
            "text/html": [
              "\n",
              "  <div id=\"df-7554cb71-77aa-4e8a-a1de-21b72f039955\">\n",
              "    <div class=\"colab-df-container\">\n",
              "      <div>\n",
              "<style scoped>\n",
              "    .dataframe tbody tr th:only-of-type {\n",
              "        vertical-align: middle;\n",
              "    }\n",
              "\n",
              "    .dataframe tbody tr th {\n",
              "        vertical-align: top;\n",
              "    }\n",
              "\n",
              "    .dataframe thead th {\n",
              "        text-align: right;\n",
              "    }\n",
              "</style>\n",
              "<table border=\"1\" class=\"dataframe\">\n",
              "  <thead>\n",
              "    <tr style=\"text-align: right;\">\n",
              "      <th></th>\n",
              "      <th>Вы работаете?</th>\n",
              "      <th>Выход на пенсию</th>\n",
              "      <th>Прекращение работы по болезни</th>\n",
              "      <th>Сахарный диабет</th>\n",
              "      <th>Гепатит</th>\n",
              "      <th>Онкология</th>\n",
              "      <th>Хроническое заболевание легких</th>\n",
              "      <th>Бронжиальная астма</th>\n",
              "      <th>Туберкулез легких</th>\n",
              "      <th>ВИЧ/СПИД</th>\n",
              "      <th>Регулярный прим лекарственных средств</th>\n",
              "      <th>Травмы за год</th>\n",
              "      <th>Переломы</th>\n",
              "      <th>Возраст курения</th>\n",
              "      <th>Сигарет в день</th>\n",
              "      <th>Пассивное курение</th>\n",
              "      <th>Возраст алког</th>\n",
              "      <th>Сон после обеда</th>\n",
              "      <th>Спорт, клубы</th>\n",
              "      <th>Религия, клубы</th>\n",
              "      <th>Артериальная гипертензия</th>\n",
              "      <th>ОНМК</th>\n",
              "      <th>Стенокардия, ИБС, инфаркт миокарда</th>\n",
              "      <th>Сердечная недостаточность</th>\n",
              "      <th>Прочие заболевания сердца</th>\n",
              "      <th>Засыпает после 22</th>\n",
              "      <th>Встает после 9</th>\n",
              "      <th>Время сна</th>\n",
              "      <th>Пол_Ж</th>\n",
              "      <th>Пол_М</th>\n",
              "      <th>Семья_в браке в настоящее время</th>\n",
              "      <th>Семья_в разводе</th>\n",
              "      <th>Семья_вдовец / вдова</th>\n",
              "      <th>Семья_гражданский брак / проживание с партнером</th>\n",
              "      <th>Семья_никогда не был(а) в браке</th>\n",
              "      <th>Семья_раздельное проживание (официально не разведены)</th>\n",
              "      <th>Этнос_другая азиатская (Корея, Малайзия, Таиланд, Вьетнам, Казахстан, Киргизия, Туркмения, Узбекистан, Таджикистан)</th>\n",
              "      <th>Этнос_европейская</th>\n",
              "      <th>Этнос_прочее (любая иная этно-расовая группа, не представленная выше)</th>\n",
              "      <th>Национальность_Другое</th>\n",
              "      <th>Национальность_Русские</th>\n",
              "      <th>Религия_Атеист / агностик</th>\n",
              "      <th>Религия_Другое</th>\n",
              "      <th>Религия_Индуизм</th>\n",
              "      <th>Религия_Ислам</th>\n",
              "      <th>Религия_Нет</th>\n",
              "      <th>Религия_Христианство</th>\n",
              "      <th>Образование_2 - начальная школа</th>\n",
              "      <th>Образование_3 - средняя школа / закон.среднее / выше среднего</th>\n",
              "      <th>Образование_4 - профессиональное училище</th>\n",
              "      <th>Образование_5 - ВУЗ</th>\n",
              "      <th>Профессия_ведение домашнего хозяйства</th>\n",
              "      <th>Профессия_вооруженные силы</th>\n",
              "      <th>Профессия_дипломированные специалисты</th>\n",
              "      <th>Профессия_квалифицированные работники сельского хозяйства и рыболовного</th>\n",
              "      <th>Профессия_низкоквалифицированные работники</th>\n",
              "      <th>Профессия_операторы и монтажники установок и машинного оборудования</th>\n",
              "      <th>Профессия_представители   законодат.   органов   власти,  высокопостав. долж.лица и менеджеры</th>\n",
              "      <th>Профессия_работники,  занятые в сфере обслуживания, торговые работники магазинов и рынков</th>\n",
              "      <th>Профессия_ремесленники и представители других отраслей промышленности</th>\n",
              "      <th>Профессия_служащие</th>\n",
              "      <th>Профессия_техники и младшие специалисты</th>\n",
              "      <th>Статус Курения_Бросил(а)</th>\n",
              "      <th>Статус Курения_Курит</th>\n",
              "      <th>Статус Курения_Никогда не курил</th>\n",
              "      <th>Статус Курения_Никогда не курил(а)</th>\n",
              "      <th>Частота пасс кур_0</th>\n",
              "      <th>Частота пасс кур_1-2 раза в неделю</th>\n",
              "      <th>Частота пасс кур_2-3 раза в день</th>\n",
              "      <th>Частота пасс кур_3-6 раз в неделю</th>\n",
              "      <th>Частота пасс кур_4 и более раз в день</th>\n",
              "      <th>Частота пасс кур_не менее 1 раза в день</th>\n",
              "      <th>Алкоголь_никогда не употреблял</th>\n",
              "      <th>Алкоголь_ранее употреблял</th>\n",
              "      <th>Алкоголь_употребляю в настоящее время</th>\n",
              "    </tr>\n",
              "  </thead>\n",
              "  <tbody>\n",
              "    <tr>\n",
              "      <th>1590</th>\n",
              "      <td>1</td>\n",
              "      <td>0</td>\n",
              "      <td>0</td>\n",
              "      <td>0</td>\n",
              "      <td>0</td>\n",
              "      <td>0</td>\n",
              "      <td>0</td>\n",
              "      <td>0</td>\n",
              "      <td>0</td>\n",
              "      <td>0</td>\n",
              "      <td>0</td>\n",
              "      <td>0</td>\n",
              "      <td>0</td>\n",
              "      <td>0.0</td>\n",
              "      <td>0.0</td>\n",
              "      <td>1</td>\n",
              "      <td>0.0</td>\n",
              "      <td>0</td>\n",
              "      <td>0</td>\n",
              "      <td>0</td>\n",
              "      <td>NaN</td>\n",
              "      <td>NaN</td>\n",
              "      <td>NaN</td>\n",
              "      <td>NaN</td>\n",
              "      <td>NaN</td>\n",
              "      <td>1</td>\n",
              "      <td>0</td>\n",
              "      <td>8.0</td>\n",
              "      <td>1</td>\n",
              "      <td>0</td>\n",
              "      <td>1</td>\n",
              "      <td>0</td>\n",
              "      <td>0</td>\n",
              "      <td>0</td>\n",
              "      <td>0</td>\n",
              "      <td>0</td>\n",
              "      <td>0</td>\n",
              "      <td>1</td>\n",
              "      <td>0</td>\n",
              "      <td>0</td>\n",
              "      <td>1</td>\n",
              "      <td>0</td>\n",
              "      <td>0</td>\n",
              "      <td>0</td>\n",
              "      <td>0</td>\n",
              "      <td>0</td>\n",
              "      <td>1</td>\n",
              "      <td>0</td>\n",
              "      <td>0</td>\n",
              "      <td>1</td>\n",
              "      <td>0</td>\n",
              "      <td>0</td>\n",
              "      <td>0</td>\n",
              "      <td>0</td>\n",
              "      <td>0</td>\n",
              "      <td>0</td>\n",
              "      <td>0</td>\n",
              "      <td>0</td>\n",
              "      <td>1</td>\n",
              "      <td>0</td>\n",
              "      <td>0</td>\n",
              "      <td>0</td>\n",
              "      <td>0</td>\n",
              "      <td>0</td>\n",
              "      <td>0</td>\n",
              "      <td>1</td>\n",
              "      <td>0</td>\n",
              "      <td>0</td>\n",
              "      <td>1</td>\n",
              "      <td>0</td>\n",
              "      <td>0</td>\n",
              "      <td>0</td>\n",
              "      <td>1</td>\n",
              "      <td>0</td>\n",
              "      <td>0</td>\n",
              "    </tr>\n",
              "    <tr>\n",
              "      <th>1591</th>\n",
              "      <td>1</td>\n",
              "      <td>0</td>\n",
              "      <td>0</td>\n",
              "      <td>0</td>\n",
              "      <td>1</td>\n",
              "      <td>0</td>\n",
              "      <td>1</td>\n",
              "      <td>0</td>\n",
              "      <td>0</td>\n",
              "      <td>0</td>\n",
              "      <td>1</td>\n",
              "      <td>0</td>\n",
              "      <td>1</td>\n",
              "      <td>0.0</td>\n",
              "      <td>0.0</td>\n",
              "      <td>0</td>\n",
              "      <td>17.0</td>\n",
              "      <td>0</td>\n",
              "      <td>0</td>\n",
              "      <td>0</td>\n",
              "      <td>NaN</td>\n",
              "      <td>NaN</td>\n",
              "      <td>NaN</td>\n",
              "      <td>NaN</td>\n",
              "      <td>NaN</td>\n",
              "      <td>1</td>\n",
              "      <td>0</td>\n",
              "      <td>5.0</td>\n",
              "      <td>1</td>\n",
              "      <td>0</td>\n",
              "      <td>0</td>\n",
              "      <td>1</td>\n",
              "      <td>0</td>\n",
              "      <td>0</td>\n",
              "      <td>0</td>\n",
              "      <td>0</td>\n",
              "      <td>0</td>\n",
              "      <td>1</td>\n",
              "      <td>0</td>\n",
              "      <td>0</td>\n",
              "      <td>1</td>\n",
              "      <td>0</td>\n",
              "      <td>0</td>\n",
              "      <td>0</td>\n",
              "      <td>0</td>\n",
              "      <td>0</td>\n",
              "      <td>1</td>\n",
              "      <td>0</td>\n",
              "      <td>0</td>\n",
              "      <td>1</td>\n",
              "      <td>0</td>\n",
              "      <td>0</td>\n",
              "      <td>0</td>\n",
              "      <td>0</td>\n",
              "      <td>0</td>\n",
              "      <td>0</td>\n",
              "      <td>0</td>\n",
              "      <td>0</td>\n",
              "      <td>0</td>\n",
              "      <td>0</td>\n",
              "      <td>0</td>\n",
              "      <td>1</td>\n",
              "      <td>0</td>\n",
              "      <td>0</td>\n",
              "      <td>0</td>\n",
              "      <td>1</td>\n",
              "      <td>1</td>\n",
              "      <td>0</td>\n",
              "      <td>0</td>\n",
              "      <td>0</td>\n",
              "      <td>0</td>\n",
              "      <td>0</td>\n",
              "      <td>0</td>\n",
              "      <td>0</td>\n",
              "      <td>1</td>\n",
              "    </tr>\n",
              "  </tbody>\n",
              "</table>\n",
              "</div>\n",
              "      <button class=\"colab-df-convert\" onclick=\"convertToInteractive('df-7554cb71-77aa-4e8a-a1de-21b72f039955')\"\n",
              "              title=\"Convert this dataframe to an interactive table.\"\n",
              "              style=\"display:none;\">\n",
              "        \n",
              "  <svg xmlns=\"http://www.w3.org/2000/svg\" height=\"24px\"viewBox=\"0 0 24 24\"\n",
              "       width=\"24px\">\n",
              "    <path d=\"M0 0h24v24H0V0z\" fill=\"none\"/>\n",
              "    <path d=\"M18.56 5.44l.94 2.06.94-2.06 2.06-.94-2.06-.94-.94-2.06-.94 2.06-2.06.94zm-11 1L8.5 8.5l.94-2.06 2.06-.94-2.06-.94L8.5 2.5l-.94 2.06-2.06.94zm10 10l.94 2.06.94-2.06 2.06-.94-2.06-.94-.94-2.06-.94 2.06-2.06.94z\"/><path d=\"M17.41 7.96l-1.37-1.37c-.4-.4-.92-.59-1.43-.59-.52 0-1.04.2-1.43.59L10.3 9.45l-7.72 7.72c-.78.78-.78 2.05 0 2.83L4 21.41c.39.39.9.59 1.41.59.51 0 1.02-.2 1.41-.59l7.78-7.78 2.81-2.81c.8-.78.8-2.07 0-2.86zM5.41 20L4 18.59l7.72-7.72 1.47 1.35L5.41 20z\"/>\n",
              "  </svg>\n",
              "      </button>\n",
              "      \n",
              "  <style>\n",
              "    .colab-df-container {\n",
              "      display:flex;\n",
              "      flex-wrap:wrap;\n",
              "      gap: 12px;\n",
              "    }\n",
              "\n",
              "    .colab-df-convert {\n",
              "      background-color: #E8F0FE;\n",
              "      border: none;\n",
              "      border-radius: 50%;\n",
              "      cursor: pointer;\n",
              "      display: none;\n",
              "      fill: #1967D2;\n",
              "      height: 32px;\n",
              "      padding: 0 0 0 0;\n",
              "      width: 32px;\n",
              "    }\n",
              "\n",
              "    .colab-df-convert:hover {\n",
              "      background-color: #E2EBFA;\n",
              "      box-shadow: 0px 1px 2px rgba(60, 64, 67, 0.3), 0px 1px 3px 1px rgba(60, 64, 67, 0.15);\n",
              "      fill: #174EA6;\n",
              "    }\n",
              "\n",
              "    [theme=dark] .colab-df-convert {\n",
              "      background-color: #3B4455;\n",
              "      fill: #D2E3FC;\n",
              "    }\n",
              "\n",
              "    [theme=dark] .colab-df-convert:hover {\n",
              "      background-color: #434B5C;\n",
              "      box-shadow: 0px 1px 3px 1px rgba(0, 0, 0, 0.15);\n",
              "      filter: drop-shadow(0px 1px 2px rgba(0, 0, 0, 0.3));\n",
              "      fill: #FFFFFF;\n",
              "    }\n",
              "  </style>\n",
              "\n",
              "      <script>\n",
              "        const buttonEl =\n",
              "          document.querySelector('#df-7554cb71-77aa-4e8a-a1de-21b72f039955 button.colab-df-convert');\n",
              "        buttonEl.style.display =\n",
              "          google.colab.kernel.accessAllowed ? 'block' : 'none';\n",
              "\n",
              "        async function convertToInteractive(key) {\n",
              "          const element = document.querySelector('#df-7554cb71-77aa-4e8a-a1de-21b72f039955');\n",
              "          const dataTable =\n",
              "            await google.colab.kernel.invokeFunction('convertToInteractive',\n",
              "                                                     [key], {});\n",
              "          if (!dataTable) return;\n",
              "\n",
              "          const docLinkHtml = 'Like what you see? Visit the ' +\n",
              "            '<a target=\"_blank\" href=https://colab.research.google.com/notebooks/data_table.ipynb>data table notebook</a>'\n",
              "            + ' to learn more about interactive tables.';\n",
              "          element.innerHTML = '';\n",
              "          dataTable['output_type'] = 'display_data';\n",
              "          await google.colab.output.renderOutput(dataTable, element);\n",
              "          const docLink = document.createElement('div');\n",
              "          docLink.innerHTML = docLinkHtml;\n",
              "          element.appendChild(docLink);\n",
              "        }\n",
              "      </script>\n",
              "    </div>\n",
              "  </div>\n",
              "  "
            ]
          },
          "metadata": {},
          "execution_count": 24
        }
      ]
    },
    {
      "cell_type": "markdown",
      "source": [
        "Разделим данные обратно на тренировочное и тестовое множества:"
      ],
      "metadata": {
        "id": "zpii8958rA_W"
      }
    },
    {
      "cell_type": "code",
      "source": [
        "train = df[:954]\n",
        "test = df[954:]\n",
        "\n",
        "#удаляем ID и TАRGET из тренировочной выборки:\n",
        "test = test.drop(['Артериальная гипертензия', 'ОНМК', 'Стенокардия, ИБС, инфаркт миокарда', \n",
        "                  'Сердечная недостаточность', 'Прочие заболевания сердца',], axis=1)\n",
        "\n",
        "train.shape, test.shape"
      ],
      "metadata": {
        "colab": {
          "base_uri": "https://localhost:8080/"
        },
        "id": "ZJ7kAbdQHYqO",
        "outputId": "53d7c39a-0c3e-4eb5-94d8-fa128ce4ff99"
      },
      "execution_count": 25,
      "outputs": [
        {
          "output_type": "execute_result",
          "data": {
            "text/plain": [
              "((954, 75), (638, 70))"
            ]
          },
          "metadata": {},
          "execution_count": 25
        }
      ]
    },
    {
      "cell_type": "markdown",
      "source": [
        "Разделим переменные в тренировочном множестве:"
      ],
      "metadata": {
        "id": "gvz5KoszrL_y"
      }
    },
    {
      "cell_type": "code",
      "source": [
        "#в качестве зависимой переменной берем TARGET:\n",
        "y_1 = train['Артериальная гипертензия']\n",
        "y_2 = train['ОНМК']\n",
        "y_3 = train['Стенокардия, ИБС, инфаркт миокарда']\n",
        "y_4 = train['Сердечная недостаточность']\n",
        "y_5 = train['Прочие заболевания сердца']\n",
        "\n",
        "#удаляем ID и TАRGET из тренировочной выборки:\n",
        "x_train = train.drop(['Артериальная гипертензия', 'ОНМК', 'Стенокардия, ИБС, инфаркт миокарда', \n",
        "                    'Сердечная недостаточность', 'Прочие заболевания сердца'], axis=1)\n",
        "\n",
        "x_test = test\n",
        "x_train.shape"
      ],
      "metadata": {
        "id": "voOnP5lF7fwU",
        "colab": {
          "base_uri": "https://localhost:8080/"
        },
        "outputId": "fb9cb6b9-a6ff-42de-9bd8-29e97252c05a"
      },
      "execution_count": 26,
      "outputs": [
        {
          "output_type": "execute_result",
          "data": {
            "text/plain": [
              "(954, 70)"
            ]
          },
          "metadata": {},
          "execution_count": 26
        }
      ]
    },
    {
      "cell_type": "code",
      "source": [
        ""
      ],
      "metadata": {
        "id": "Qkh8CrAP7fzy"
      },
      "execution_count": null,
      "outputs": []
    },
    {
      "cell_type": "markdown",
      "source": [
        "# Обучение алгоритмов и предсказания для теста"
      ],
      "metadata": {
        "id": "xvcUCyFYCeux"
      }
    },
    {
      "cell_type": "markdown",
      "source": [
        "В качестве основного алгоритма для решения задачи будет использоваться бустинг. А именно 5 независимых, разных CatBoost для каждой прогнозируемой переменной."
      ],
      "metadata": {
        "id": "k5xLN8gfrrDH"
      }
    },
    {
      "cell_type": "markdown",
      "source": [
        "Для первых 4 бустингов будем подбирать оптимальные гиперпараметры с помощью библиотеки optuna. Особое внимание нужно уделить параметру scale_pos_weight, так как в 4 из 5 прогнозируемых переменных значения несбалансированны."
      ],
      "metadata": {
        "id": "EGU4ETwculAl"
      }
    },
    {
      "cell_type": "markdown",
      "source": [
        "Функция для подбора основных гиперпараметров, которая стремится максимизировать recall_macro:"
      ],
      "metadata": {
        "id": "vhV95HHRvAVw"
      }
    },
    {
      "cell_type": "code",
      "source": [
        "def objective(trial, X=x_train, y=y_1):\n",
        "\n",
        "  recall_list = []  \n",
        "\n",
        "  kf = StratifiedKFold(n_splits = 3, random_state = 42, shuffle = True)\n",
        "  X = X.reset_index(drop=True)\n",
        "  y = y.reset_index(drop=True)\n",
        "\n",
        "  param = {\n",
        "        'learning_rate': trial.suggest_uniform('learning_rate', 0.004, 0.02),\n",
        "        'n_estimators':  trial.suggest_int('n_estimators', 50, 300),\n",
        "        'max_depth': trial.suggest_int('max_depth', 2, 10),\n",
        "        'scale_pos_weight': trial.suggest_uniform('scale_pos_weight', 1.0, 3.0),\n",
        "        'min_data_in_leaf': trial.suggest_int('min_data_in_leaf', 1, 300),\n",
        "        'l2_leaf_reg': trial.suggest_loguniform('l2_leaf_reg', 1e-3, 10.0),\n",
        "        'max_bin': trial.suggest_int('max_bin', 200, 400),\n",
        "        'subsample': trial.suggest_uniform('subsample', 0.1, 1.0),\n",
        "        'random_state': trial.suggest_categorical('random_state', [42]),\n",
        "    }\n",
        "\n",
        "\n",
        "  cb = CatBoostClassifier(verbose=False, **param)\n",
        "  for i, (train_index, test_index) in enumerate(kf.split(X, y)):\n",
        "          \n",
        "    X_train, X_test = X.iloc[train_index], X.iloc[test_index]\n",
        "    y_train, y_test = y[train_index], y[test_index]\n",
        "    \n",
        "    cb.fit(X_train, y_train)\n",
        "    predict = cb.predict(X_test)\n",
        "\n",
        "    recall = recall_score(y_test, predict, average='macro')\n",
        "    recall_list.append(recall)\n",
        "            \n",
        "  return float(round(np.mean(recall_list), 4))"
      ],
      "metadata": {
        "id": "LULWrKe8pVri"
      },
      "execution_count": 27,
      "outputs": []
    },
    {
      "cell_type": "markdown",
      "source": [
        "Подбираем параметры:"
      ],
      "metadata": {
        "id": "FJdMMSYuvsat"
      }
    },
    {
      "cell_type": "code",
      "source": [
        "study = optuna.create_study(direction=\"maximize\")\n",
        "study.optimize(objective, n_trials=300)\n",
        "print(study.best_trial)\n",
        "print('Best trial:', study.best_trial.params)"
      ],
      "metadata": {
        "id": "JceW3aIkm_eJ"
      },
      "execution_count": null,
      "outputs": []
    },
    {
      "cell_type": "markdown",
      "source": [
        "Визуализация подбора параметров:"
      ],
      "metadata": {
        "id": "AUUeuUBq0kMH"
      }
    },
    {
      "cell_type": "code",
      "source": [
        "optuna.visualization.plot_parallel_coordinate(study)"
      ],
      "metadata": {
        "colab": {
          "base_uri": "https://localhost:8080/",
          "height": 542
        },
        "id": "72OGXsnI0CsE",
        "outputId": "de129f53-02a3-45ab-fbc1-2f5794a97c9b"
      },
      "execution_count": 29,
      "outputs": [
        {
          "output_type": "display_data",
          "data": {
            "text/html": [
              "<html>\n",
              "<head><meta charset=\"utf-8\" /></head>\n",
              "<body>\n",
              "    <div>            <script src=\"https://cdnjs.cloudflare.com/ajax/libs/mathjax/2.7.5/MathJax.js?config=TeX-AMS-MML_SVG\"></script><script type=\"text/javascript\">if (window.MathJax) {MathJax.Hub.Config({SVG: {font: \"STIX-Web\"}});}</script>                <script type=\"text/javascript\">window.PlotlyConfig = {MathJaxConfig: 'local'};</script>\n",
              "        <script src=\"https://cdn.plot.ly/plotly-2.8.3.min.js\"></script>                <div id=\"99c73aac-bb19-4b78-8c48-e61b85f2f08f\" class=\"plotly-graph-div\" style=\"height:525px; width:100%;\"></div>            <script type=\"text/javascript\">                                    window.PLOTLYENV=window.PLOTLYENV || {};                                    if (document.getElementById(\"99c73aac-bb19-4b78-8c48-e61b85f2f08f\")) {                    Plotly.newPlot(                        \"99c73aac-bb19-4b78-8c48-e61b85f2f08f\",                        [{\"dimensions\":[{\"label\":\"Objective Value\",\"range\":[0.6854,0.7365],\"values\":[0.7148,0.6975,0.7119,0.7158,0.7167,0.7157,0.7106,0.7104,0.6961,0.7134,0.7167,0.7152,0.7174,0.7156,0.7121,0.713,0.7158,0.7167,0.7167,0.7117,0.7167,0.7134,0.7148,0.7167,0.7167,0.7188,0.7155,0.7129,0.7158,0.7157,0.7109,0.717,0.7182,0.7159,0.7244,0.7139,0.7177,0.7118,0.7153,0.7167,0.7158,0.7182,0.7255,0.7345,0.7155,0.7195,0.7128,0.715,0.6854,0.7145,0.7153,0.73,0.717,0.7265,0.7212,0.7216,0.7207,0.72,0.7192,0.7122,0.6945,0.7165,0.7172,0.715,0.723,0.7254,0.715,0.7261,0.7152,0.7181,0.718,0.7197,0.7155,0.7154,0.7208,0.7135,0.7125,0.7106,0.7249,0.7118,0.7228,0.7244,0.7237,0.7223,0.7205,0.7164,0.7217,0.731,0.7153,0.7137,0.7245,0.7167,0.7244,0.7169,0.7266,0.7252,0.7192,0.7269,0.7183,0.7303,0.7127,0.7248,0.7323,0.7235,0.722,0.7214,0.73,0.6955,0.722,0.7226,0.7132,0.7196,0.7195,0.721,0.7216,0.7154,0.7271,0.7243,0.7285,0.7216,0.7292,0.725,0.7234,0.7206,0.7271,0.7224,0.7078,0.7085,0.7183,0.7294,0.7162,0.7252,0.7264,0.7249,0.6885,0.7166,0.7245,0.7285,0.7214,0.7183,0.7233,0.7173,0.7329,0.7336,0.7279,0.7179,0.7177,0.7365,0.7326,0.7169,0.7105,0.7214,0.7208,0.7178,0.7236,0.7224,0.7304,0.7172,0.7239,0.7285,0.7019,0.7267,0.72,0.7213,0.7185,0.7233,0.7207,0.718,0.7249,0.7302,0.7183,0.7211,0.7142,0.7285,0.7198,0.7181,0.7264,0.73,0.7135,0.7255,0.7208,0.7241,0.7229,0.7244,0.7237,0.7247,0.723,0.7273,0.7243,0.724,0.7117,0.725,0.7226,0.7248,0.7285,0.7261,0.7266,0.7233,0.7339,0.7176,0.7255,0.7269,0.7175,0.7309,0.7257,0.7156,0.7227,0.7237,0.7228,0.7272,0.723,0.7268,0.7183,0.7161,0.7233,0.7249,0.7297,0.7239,0.7254,0.7181,0.725,0.7292,0.7213,0.7254,0.7287,0.7189,0.733,0.7324,0.7217,0.7146,0.734,0.7324,0.7231,0.7275,0.7289,0.722,0.724,0.7282,0.7226,0.7285,0.7281,0.7296,0.7247,0.729,0.7282,0.7276,0.729,0.7236,0.7307,0.7241,0.7291,0.7279,0.7104,0.7231,0.721,0.7231,0.7209,0.7262,0.7234,0.73,0.7255,0.7278,0.7227,0.7241,0.7267,0.7258,0.7071,0.7315,0.7172,0.7228,0.7269,0.7208,0.735,0.7289,0.7313,0.7254,0.7252,0.7176,0.7245,0.7351,0.7302,0.7218,0.716,0.7321,0.7303,0.7261,0.7295,0.7154,0.722,0.7157,0.7153,0.7223,0.7272,0.7234,0.7272,0.7254,0.7259,0.7258,0.7296,0.7307]},{\"label\":\"l2_leaf_reg\",\"range\":[-2.9985603940339436,0.9886103309283361],\"ticktext\":[\"0.001\",\"0.01\",\"0.1\",\"1\",\"9.74\"],\"tickvals\":[-2.9985603940339436,-2,-1,0,0.9886103309283361],\"values\":[-1.3301486444059836,-1.184133495674279,-1.3116421555118112,0.7391730780608285,0.3189208955640432,-0.18539877472648317,-2.2722467990541,-2.579832979687658,-2.6554744098563012,-1.046577198120052,0.9318286448218744,0.9886103309283361,0.13301360835262238,0.05085215096317634,-0.20654034604018115,0.24980338416451853,-0.5521539604789254,0.3896456573728766,-1.8153930769364919,-1.9534002417668639,-0.5751419809188922,-1.8502342028711127,0.7154693137336493,-0.6526134454278555,-0.6727017493625432,-1.7805442248602814,0.4330029761538339,-1.570337474332275,-2.9652859363663473,-1.6206849525454463,-0.28234404516903744,-2.1421817537172383,-2.1140366348215527,-2.1629445393212254,-2.3615434015873396,-2.4482366304473344,-1.3696669299120552,-1.5268612952653582,-1.168186343412935,-1.3689934010890337,-2.888568388626162,-2.356496549831744,-2.4423132372757395,-2.3843719963143464,-2.456640783337287,-2.7026089945999434,-2.6666592000133424,-2.5615129690947454,-2.8127813550863197,-2.734504320021855,-2.2558258236948485,-2.3927621832986996,-2.5697502118736217,-1.983169434327258,-1.9679324308585295,-2.015214949424991,-1.976835999142174,-2.3308440229017235,-2.483388990987115,-1.6928098008384023,-2.0683702765480874,-1.9073923720022854,-2.2226627471009364,-2.050685065036151,-2.364731236661097,-2.3732957480035033,-2.349124443027618,-2.994359100085677,-2.9501487643895143,-2.8315319395965557,-2.5954436421416345,-2.4462824857530894,-2.9985603940339436,-2.761968470225821,-2.231706183828993,-2.5322312305608277,-2.3925031819222817,-2.2846528181471255,-2.6934935294961706,-2.666503937210623,-2.82442282851402,-2.615832364451515,-2.63546095904301,-2.8960567773788255,-2.5022511883806495,-2.16313208880989,-2.7260965751186754,-2.649515058623948,-0.8277823611113274,-2.89241984963558,-2.5837831477534734,-2.64418682248516,-2.7451379360873003,-2.53423174694877,-2.7634202200647127,-2.4500576685758673,-2.815223236726645,-2.4551584121552312,-2.424839304363862,-2.169946226394631,-1.8490644889419434,-2.1732724987917416,-2.230392418650537,-2.265841790006205,-2.0752514263972652,-1.7356029076614223,-2.33070300747286,-1.9054645521207259,-2.297739114436169,-2.1287270339540383,-2.1967786112354233,-2.4059685134109055,-2.323123576017404,-2.517963857671809,-2.935563678632125,-2.0315044601238554,-1.4635344488926048,-1.4570973111805592,-1.667801549858042,-1.2728000390463023,-1.638744154745325,-1.6393271204130129,-1.0817382386756096,-1.47426947699441,-1.7802531529201833,-1.7885655535446499,-1.7224502776521338,-1.6125417223590561,-1.9182819351241975,-1.50303256697075,-1.521346989289098,-1.3642395885563106,-1.6549453033669694,-1.20827695800423,-1.4392705839636208,-1.5481223945953584,-1.8116451847027426,-2.003462054550528,-1.8742336682080265,-1.7373145848090668,-2.129450127123698,-1.9784052766783675,-2.0167790060278517,-2.254775824936743,-2.079363732348606,-2.2256981061773997,-2.059155952187162,-1.9587094805911391,-1.967264782879737,-2.1129743931897,-1.9777206622957004,-1.838403341682442,-2.2127395751296666,-2.0293928709911793,-2.321276551098919,-1.8954515616022027,-2.126299179369975,-2.1053228477802297,-2.2625454414907247,-2.1760240446047288,-2.1624723313092713,-1.9736551186091509,-2.061319461305398,-2.1971957918113594,-2.3068084498649246,-2.110260139131217,-1.935579685834864,-2.3771859625362133,-2.248142329163156,-2.1647930332014425,-2.392006500364883,-2.0327000611118247,-2.1557021675219663,-0.4011004723201208,-0.37021757761057866,-0.8047120253440002,-0.4478587493878753,0.21917766776099118,-0.10438239062830611,0.4843196951492106,0.34438473094461,0.08872139110568343,0.8680898175088415,-0.10545070138462492,0.4634090847075773,0.16762683726410701,-2.189710461887203,0.6333208005750304,-0.9210845739294525,-2.2565300934498045,-1.984530589463723,-2.077887462723875,-1.904725890809053,-2.3567409060720133,-2.149980717735496,-2.29936061970796,-2.1418675770112476,-2.4932627269371923,-2.1876974496160844,-2.2447318279819726,-2.176566305108182,-2.005392016682751,-2.3169139764959716,-1.8292800143674188,-1.8375968379345675,-1.6910345370112152,-2.0834060414225863,-1.9196556786589751,-1.5634670384000764,-1.806694765259187,-0.5764690943542808,-2.2057809643370843,-1.7142020455727376,-2.113730615114149,-2.0275989427089156,-1.622512409399831,-1.9357303024962207,-1.9508527245224216,-1.7653933213211563,-2.4122246563330223,-1.8550380208603066,-2.175371334484545,-2.048726182393982,-2.272376435140167,-2.175135892723619,-1.9154106277619274,-2.224405777983624,-2.3279239075663103,-2.2686339126872843,-2.341274144995885,-2.129337290004058,-2.212148664749655,-2.2293254666407076,-2.389227953334355,-2.1326485125349497,-2.0838887128539505,-2.3239412699102804,-2.2096146464830606,-2.1311123993915695,-2.2754570003204595,-2.4402645584956466,-2.170487243608177,-2.19577144697962,-2.1071513693639092,-2.0129620391941336,-2.0772916617615644,-2.3030247351304647,-2.530594854331704,-2.315011569780138,-2.3894994780701464,-2.2122757071626995,-2.3223123493745557,-2.256849286253844,-2.4254755144420366,-2.003172348979711,-2.164363680102448,-2.4930620383883206,-2.244743472849214,-2.3480046308974996,-1.9583288108934318,-1.9408596558314932,-1.8720812667686708,-2.0535405721062374,-1.9404394359593151,-2.0126917746858304,-2.1597829514323807,-2.5799213558781546,-2.2991641820515287,-2.317543988990892,-2.249434161461438,-2.4207050466559954,-2.3737196136964163,-2.125300474588942,-2.1416725728655055,-2.0801753841256896,-2.07157169657466,-2.282969453383999,-1.989714721391354,-2.086123955217367,-2.4916644427950314,-2.5075068587987266,-2.6321003754082435,-2.5404104101977403,-2.4295883924950643,-2.482050376256344,-2.458144611921887,-2.6132637821816096,-2.5275137702087167,-2.474016473848967,-2.6610270008428665,-2.4863210469561294,-2.701974655902549,-2.3914369173215304,-2.3559323534846452,-2.5860032419979597,-2.2422837477263284,-2.46559518364505,-2.4013555948778236,-2.3104852407623806,-2.569849287678843]},{\"label\":\"learning_rate\",\"range\":[0.004015673070815953,0.019845554048962575],\"values\":[0.018428588506305542,0.009786688875386841,0.017074164050519633,0.005891070718393347,0.0054927607421147735,0.00988863308912329,0.007010216852982287,0.015923783415925787,0.015494625662740916,0.01721277969770974,0.004514430474540504,0.004131946232477116,0.008054172136759914,0.008751136084844117,0.012809618510765746,0.007491512285490936,0.011541992115837183,0.0065140285884066566,0.008021703528382282,0.012555219095811743,0.010757390564615195,0.004477403386552436,0.008262848274875008,0.011209336946549265,0.010962954828966856,0.013925118501275454,0.014311824340108444,0.013276459511258117,0.014229876810486103,0.008081907520827348,0.019795692923688185,0.005274194848958212,0.009359851531249184,0.009404614665823725,0.005783783785518711,0.009703854288808907,0.006467017683007038,0.006339628173326347,0.005671535942018145,0.007073821662707026,0.009031372855290442,0.010351731105680627,0.012140314340737594,0.010224661907081826,0.01359614281925342,0.015447976245821286,0.015407703059723802,0.016470364815004055,0.01796106546255152,0.012094218164876543,0.014761341704004368,0.010452499691861841,0.012221587011343535,0.011669371140351903,0.01025747107187033,0.011730901262903107,0.011836083236979133,0.012972199956190807,0.01058091398945835,0.012510664793231907,0.011386710637034994,0.010193164687339152,0.011656982157364932,0.008641434480397402,0.009929414879193929,0.011022596213143193,0.01087019862993851,0.009875070583757745,0.010926119628031595,0.013011886589125155,0.007299132757050768,0.009777709887903177,0.008802319976607464,0.010016286037145182,0.012337926931052267,0.005052164133174111,0.009325871845438252,0.007644686988059688,0.011282078291898772,0.011222573266209176,0.010595251769194883,0.008370151759840731,0.011220506703442115,0.008536183656385555,0.009581529370126036,0.004015673070815953,0.013367048783740695,0.009056419752308432,0.009151938816692469,0.010626743165638181,0.008287823804748552,0.007880892401368233,0.008388917187747447,0.008861145094482378,0.010425559929928408,0.010350370886199759,0.012015899815038677,0.010389006426064733,0.010313623531721645,0.009957163802166862,0.00958536531867231,0.010948370480840483,0.009976658202701043,0.010068452363778816,0.011608789564208976,0.00978419282468765,0.009237518805030405,0.00929595704622344,0.00908599527358772,0.010523553309249237,0.01008060287520874,0.009582416357901767,0.010957503065362828,0.01144039857966048,0.012708650885004398,0.010707100109981956,0.009942155152362336,0.008901168013707411,0.009533495344168018,0.009960867764462394,0.009370857889127952,0.009270569863198842,0.009413620835683678,0.009796165727282917,0.010366082479733321,0.010349968452503655,0.0086493468896875,0.010210044698339034,0.009517044841615332,0.00902828227888196,0.007968205816021742,0.00908619649979187,0.008816770829976573,0.010619396965090804,0.009740570185552317,0.010176165714235508,0.009136151668218176,0.010586948710081673,0.010481125808761907,0.00955718837786888,0.009955441848372552,0.01071413605536567,0.011250884985249603,0.011232769278777052,0.01105595016929583,0.01114153101649022,0.011796290493935442,0.011047114739949168,0.011381017255529226,0.011414644297798931,0.012019618868774047,0.01100502566234021,0.011374823129139577,0.010801550075359703,0.012346830325603323,0.011133541339130346,0.011780781858035485,0.019845554048962575,0.011776019147921781,0.011391759339588439,0.011520144136354177,0.010897851889890703,0.012152489563873,0.011240004401257343,0.011811902169408748,0.010897814730378026,0.008548485844191522,0.009299178768336464,0.011482679773324574,0.010642137352250518,0.01066713071257294,0.009996153589704904,0.012570001303362425,0.01116184028765565,0.009597808162840936,0.010255682354948937,0.01064470695795088,0.011620303840899997,0.011962867428032039,0.008963541911193734,0.011404167253601959,0.011654793712449525,0.011031191181682706,0.009748327827485727,0.01017708064472502,0.01129209135159354,0.01066881910123099,0.0122933731529484,0.019148211750752753,0.010457787058383279,0.009405851606289714,0.011180497619047011,0.010962976784464267,0.011586555870790485,0.011998144251650111,0.011936871369877526,0.012758624285018777,0.009890751749483642,0.011696008620135869,0.011615410212029107,0.012150130235662315,0.011833756649922582,0.01122723577684999,0.012446373933093073,0.012771322464109704,0.008828021861250172,0.011926196484827501,0.01302742072937399,0.01073709211905832,0.01228854695483967,0.009138107837147764,0.0115116267000695,0.012474186164800298,0.010189787357355932,0.009536130881313215,0.011309817560361597,0.010907832538307675,0.010511594564931344,0.010861249754598042,0.011707479770189148,0.010999837064812355,0.011386137218067607,0.01005782622627664,0.012071829211331946,0.011341825190975199,0.01046152349724944,0.011720555545847978,0.011224518898684512,0.011617067197934448,0.011477897449120667,0.011883867182813548,0.011165876648785133,0.011304593594823602,0.011596774371290176,0.011078871422874509,0.010879284701690793,0.012367503506852699,0.010994369021435206,0.01187948466472584,0.011178410159209602,0.011744037234629929,0.011289672473589732,0.010769621258368117,0.011208274366247035,0.011492650486896436,0.01185987652152147,0.012124113518667351,0.01257090549129466,0.012129533044525964,0.012330237922111124,0.011674033577388308,0.012097936051974118,0.010732311817403606,0.009156682458365192,0.011504097370454658,0.010324674307756453,0.01312509804765648,0.00865751257573315,0.011821393995882319,0.01108198374781936,0.011134041081590405,0.009775993120466767,0.010776301447271722,0.010306919444407914,0.008206528583102973,0.013565950266198338,0.010933851882451166,0.00928191842124547,0.017670330181283955,0.010540750427235204,0.01246721281217759,0.011294053386401109,0.010022268457744142,0.010046733943766659,0.010548019625156863,0.010172192570969272,0.009781651119643003,0.010439886127504168,0.010789383484240852,0.010567307443949852,0.010076951404448583,0.009793930863177425,0.010236669491936308,0.009529405813258025,0.009819286921622658,0.009568363681286938,0.009504621450215895,0.009988492076586464,0.01001430348548834,0.010423362178228677,0.009136094365629463,0.009699388700167837,0.009464136683287029,0.009301588068571339,0.010067835414482609,0.010324025641471857,0.010679279044575427,0.010494083282800404,0.009818439601903197,0.009946550076823752]},{\"label\":\"max_bin\",\"range\":[200,400],\"values\":[209,201,369,242,234,280,384,207,320,327,265,261,246,242,233,296,228,264,308,341,280,305,265,290,284,353,352,398,354,319,259,307,220,221,219,215,203,200,213,250,220,208,200,229,230,377,368,389,367,382,338,209,236,377,377,208,208,225,236,214,245,202,226,215,208,208,251,240,239,228,221,200,210,218,207,233,276,255,224,242,225,205,214,203,271,220,317,232,230,239,298,205,213,290,332,331,316,335,340,335,347,324,329,330,361,334,346,310,344,349,333,359,338,326,398,322,312,313,392,390,389,393,381,394,377,388,374,373,304,385,382,386,363,355,377,343,328,399,396,336,389,399,384,386,385,384,392,370,371,372,367,380,385,400,394,379,386,387,369,391,395,391,386,382,388,391,372,396,385,381,374,382,379,400,398,400,390,393,392,365,388,393,397,394,355,400,381,376,370,389,384,385,394,387,378,378,358,349,391,248,381,390,395,259,384,254,273,376,244,390,260,232,397,391,282,400,293,320,293,268,288,387,383,380,301,387,345,342,342,339,347,348,346,349,352,344,351,340,346,354,337,344,342,350,345,347,337,331,336,341,335,329,360,335,237,343,356,364,327,341,340,278,346,340,332,348,225,352,352,344,338,350,343,344,218,215,211,221,231,334,217,334,219,209,217,216,212,223,228,210,220,218,214,207,217,337,330,211,334,200]},{\"label\":\"max_depth\",\"range\":[2,6],\"values\":[3,5,2,3,5,3,6,3,4,6,5,5,5,4,5,6,4,5,6,6,5,6,5,6,4,6,5,4,4,6,2,6,5,6,6,5,5,6,5,6,3,5,5,5,6,4,4,4,3,4,2,5,5,4,4,4,3,4,4,5,3,4,4,4,4,5,5,5,5,5,5,5,5,5,5,5,5,6,5,5,6,5,5,5,5,5,5,5,6,5,5,5,5,5,5,5,5,5,5,5,5,5,5,5,5,5,5,5,5,4,5,5,5,5,5,5,5,5,5,5,5,5,5,5,5,5,5,5,4,5,5,5,5,5,5,5,5,5,5,5,5,5,5,5,5,5,5,5,5,5,5,5,5,5,5,5,5,5,5,5,5,5,5,5,5,5,5,5,5,5,5,5,5,5,5,5,5,5,2,5,5,5,5,5,5,5,5,5,5,5,5,5,5,5,5,5,5,5,5,5,5,5,5,5,5,5,5,5,5,5,5,5,5,5,5,5,5,5,5,5,5,5,5,5,5,5,5,5,5,5,5,5,5,5,5,5,5,5,5,5,5,5,5,5,5,5,5,5,5,5,5,5,5,5,5,5,5,5,5,5,5,3,5,5,5,5,5,5,5,5,5,5,5,5,5,5,5,5,5,5,5,5,2,5,5,5,5,5,5,5,5,5,5,5,5,5,5,5,5,6]},{\"label\":\"min_data_in_leaf\",\"range\":[1,300],\"values\":[8,97,155,6,135,58,130,23,147,276,221,223,213,215,184,262,106,182,185,247,293,201,234,277,291,299,82,290,257,179,165,216,249,242,206,263,201,234,201,300,273,201,163,131,127,146,147,112,75,133,162,115,117,38,27,30,52,19,53,1,96,32,24,39,70,14,68,12,95,11,14,35,66,47,42,4,122,86,108,138,176,139,160,111,170,153,101,138,125,142,134,190,130,155,130,108,120,111,88,100,115,103,16,17,7,147,18,22,128,169,9,14,28,19,1,37,61,63,78,77,57,93,44,54,57,57,73,47,86,60,79,62,60,50,116,70,122,41,59,100,79,33,41,42,42,49,39,45,45,25,41,44,51,28,34,66,54,44,32,52,49,54,36,41,67,24,54,46,74,37,34,20,41,57,55,59,50,65,65,70,143,59,48,28,64,134,91,56,83,36,48,40,46,56,40,53,29,72,37,63,38,45,31,18,7,21,18,11,25,37,50,44,32,52,59,41,123,125,106,118,139,15,13,125,132,132,137,151,153,138,147,145,148,142,148,153,149,143,160,154,158,134,135,146,138,127,145,141,131,122,125,135,133,118,18,130,3,112,139,11,11,127,15,138,165,8,131,120,22,110,129,116,124,120,121,121,114,102,125,117,115,105,113,118,116,116,97,109,116,121,127,150,110,121,104,129,137,114,30,120]},{\"label\":\"n_estimators\",\"range\":[50,298],\"values\":[99,237,179,190,163,136,282,169,100,107,57,58,50,233,144,222,288,81,51,51,83,67,119,80,80,81,145,126,77,102,91,50,73,70,66,119,192,199,261,204,177,158,158,160,158,94,111,139,92,217,126,155,167,183,185,186,153,174,212,245,185,191,178,151,168,168,166,130,143,132,151,163,171,203,132,162,148,157,172,194,182,172,178,139,172,156,163,200,211,199,227,247,227,259,229,229,273,239,242,232,220,237,256,271,253,233,255,265,239,253,252,298,247,215,259,279,207,223,209,199,209,206,209,232,195,197,217,206,189,222,220,224,211,194,215,202,241,231,235,229,234,183,220,225,219,221,207,212,214,214,225,218,211,202,223,215,219,229,219,245,247,243,233,252,225,221,261,237,209,214,248,214,229,216,203,210,266,214,213,224,201,216,207,255,219,227,231,238,213,222,205,220,218,144,212,225,209,213,198,197,190,202,210,216,214,256,232,151,224,206,266,217,208,216,161,198,211,211,205,220,227,213,212,218,223,223,201,201,195,201,203,203,189,199,204,204,197,204,191,200,205,208,208,194,194,209,200,201,213,213,214,208,218,154,211,217,206,214,210,219,220,222,276,284,204,148,218,197,189,196,228,180,200,198,193,189,193,196,201,186,185,189,177,184,185,184,183,182,187,174,186,192,181,178,167,193,188,193,198,184]},{\"label\":\"random_state\",\"range\":[0,0],\"ticktext\":[42],\"tickvals\":[0],\"values\":[0,0,0,0,0,0,0,0,0,0,0,0,0,0,0,0,0,0,0,0,0,0,0,0,0,0,0,0,0,0,0,0,0,0,0,0,0,0,0,0,0,0,0,0,0,0,0,0,0,0,0,0,0,0,0,0,0,0,0,0,0,0,0,0,0,0,0,0,0,0,0,0,0,0,0,0,0,0,0,0,0,0,0,0,0,0,0,0,0,0,0,0,0,0,0,0,0,0,0,0,0,0,0,0,0,0,0,0,0,0,0,0,0,0,0,0,0,0,0,0,0,0,0,0,0,0,0,0,0,0,0,0,0,0,0,0,0,0,0,0,0,0,0,0,0,0,0,0,0,0,0,0,0,0,0,0,0,0,0,0,0,0,0,0,0,0,0,0,0,0,0,0,0,0,0,0,0,0,0,0,0,0,0,0,0,0,0,0,0,0,0,0,0,0,0,0,0,0,0,0,0,0,0,0,0,0,0,0,0,0,0,0,0,0,0,0,0,0,0,0,0,0,0,0,0,0,0,0,0,0,0,0,0,0,0,0,0,0,0,0,0,0,0,0,0,0,0,0,0,0,0,0,0,0,0,0,0,0,0,0,0,0,0,0,0,0,0,0,0,0,0,0,0,0,0,0,0,0,0,0,0,0,0,0,0,0,0,0,0,0,0,0,0,0,0,0,0,0,0,0]},{\"label\":\"scale_pos_weight\",\"range\":[1.0000843181637316,2.99578918171884],\"values\":[2.2184363330399646,2.96731540375601,2.0079922417244944,2.570141289283306,1.4423902272120634,2.042161559530868,2.223126120724417,1.5129783047236205,2.9603606926242625,1.9453223138071352,1.1017826031596964,1.0157641105016049,1.04751068216203,1.3957223120842948,1.4781336434628403,1.2744288680127516,1.722327872206005,1.696956005336761,1.8153959850196624,2.50095645344087,1.664943962435282,1.0028445314014824,1.1435337696706616,1.7037811987046823,1.6574651265166331,1.88390011072995,1.27656823408087,2.211942568407763,1.852595196724306,2.2223533878194384,2.614986166644322,1.1936143471638003,1.230084602399947,1.2751139914588303,1.1495454484258891,1.3194975794011174,1.57216583424804,1.5762668572205216,1.3983613646116875,2.072471433550114,1.5560327271844705,1.1412730124048083,1.1796694444431517,1.1530408184714096,1.1188769023513534,1.22725347988142,1.3400730165455277,1.4463913446809262,2.401629885707111,1.2109191658799163,1.0753685321049304,1.1085983821729979,1.362274610789663,1.0705475350944906,1.012511365297192,1.0001639564117195,1.07837473095072,1.1591910266745669,1.0688052744209895,1.0119960953037583,2.777671990114599,1.0236142874282756,1.141605885627546,1.287707636693122,1.0025863509968262,1.1816751157637702,1.2012848919730381,1.0802899265996,1.4173009005972808,1.1014505928228264,1.2442033469646452,1.193364014919701,1.0810235861860307,1.3231205559333545,1.1046782728707583,1.1719542084859107,1.4798499368382436,1.257365605802451,1.1497840817538851,1.3444975948251288,1.1565948538397282,1.0533329913235279,1.1305052321780837,1.0702022192414309,1.2428756641927075,1.3084283636727898,1.1830813715733595,1.0659020497830913,1.10581858702907,1.3684183501694163,1.0555825953722087,1.0521123277743905,1.0451116038069925,1.2253480834778951,1.1206976093853547,1.126755119292319,1.2854659369832155,1.171089913094919,1.1908420873712595,1.1203782927473125,2.0891209643516557,1.1088171640850413,1.1216207030145744,1.1928797273607352,1.2531421013040365,1.2201172714722768,1.1014980972836508,2.99578918171884,1.0409302363116728,1.0938599266233686,1.0000843181637316,1.1578790386304456,1.120442626475607,1.2968697585299436,1.1712780878651374,1.0851203708574524,1.0433889700166732,1.0437459942176242,1.1210981126504294,1.1242592113881136,1.0374022238327765,1.0400156154157871,1.0818663376885835,1.0000930567995558,1.1398332370939273,1.2163690153215434,2.336404074936411,1.792834007488135,1.1329759664048746,1.1433549324056838,1.2741674503386058,1.1572177465916016,1.091280429105904,1.0401560876189913,2.8718797367177187,1.2235607129591248,1.1235646212977297,1.1609277757114522,1.1767677784902644,1.2440470471655112,1.1423673108349914,1.070310013397337,1.101417233780311,1.094202567405155,1.0342804449102452,1.002124800785758,1.0327826748339322,1.0968814943445369,1.0972259965649873,1.0881223989266988,1.9674776899999717,1.1109506828434266,1.0418147557739084,1.1982628347080335,1.0859291724562408,1.1430928081518534,1.1542372839666128,1.1999197284486205,1.0711581470454132,1.1673874467921783,2.6342037715347337,1.107642614402859,1.1561289495314389,1.2560713689412417,1.195258551013103,1.0650119111604792,1.1106344513358999,1.0003172155594326,1.1672107708939228,1.0388141411852396,1.226963780418952,1.0642351811871484,1.1177164940992315,1.0279661955886978,1.0990001795947588,1.157377497960843,1.0334611459374243,1.0698029191599956,1.072557331412156,1.13992088571609,1.001204990553445,1.0983771345457496,1.0572737118141444,1.1782580606920505,1.115002179141912,1.0371980715028604,1.1425492646575872,1.0785564309053992,1.2156720217420887,1.104873380480277,2.147206083378524,1.0309773130286342,1.0643561262710604,1.0326010063274578,1.159318855669702,1.1515791690393964,1.1955424950566882,1.1315941403225256,1.1005537121074191,1.0931813898026572,1.1818939269464797,1.1197220292842902,1.0741891989415275,1.158669080600112,1.1167690254596896,1.6351364724960722,1.1572336528414506,1.2309675466744965,1.0696956164800784,1.1859477779616627,1.0956503094662788,1.1482006845015693,1.0013891253096283,1.1349011599011887,1.054947709912774,1.1725159284715188,1.1006100390341358,1.258276253424833,1.1115068233985153,1.0364383328605578,1.0821040953615588,1.1500772018375096,1.1175608088493885,1.0754044303769767,1.2049829828969587,1.2059679606168385,1.039981769218868,1.0260080245597707,1.0510132739774383,1.000996799586326,1.0911070764379025,1.088432732352712,1.084084096137979,1.0933334905576404,1.048109930413754,1.040951860182254,1.0539784093277547,1.101728431154326,1.0301581391266246,1.0761555867095354,1.1281115984903207,1.1218832222069741,1.0613385552256862,1.1103949748411146,1.1358282469637273,1.1060179690281688,1.1374739855219969,1.1438449608569914,1.0772315838471802,1.003123771451462,1.0849006839168507,1.0677830983529137,1.0341095989143367,1.0959393647882363,1.1669503405429427,1.1173604376455941,1.0719707534835006,1.0198035199700124,1.1478120831659306,1.0889422835069138,1.104747357396407,1.0446169236245884,1.1762032991286744,1.080323107595154,1.0034054697424681,1.1263074192875095,2.3294641966168697,1.0492446530393567,1.0753486160326855,1.0631945172465553,1.109277498833016,1.03885841843013,1.0984173297568938,1.0951373870096075,1.0562375306612284,1.0393780449169476,1.0684068038185404,1.0132115577692475,1.0707583515913086,1.0978414395079075,1.0045619025137549,1.001947711394407,1.047702372090874,1.0005123938593106,1.0038560511092787,1.0078023147900825,1.0074695296697966,1.040961517414227,1.0014725451534179,1.7859897478277897,1.507948379780647,1.038605667917691,1.043468090009634,1.0433926320965674,1.0056296540895862,1.083445269904198,1.0756491975703433,1.1846542545037015,1.0998528656781394,1.1426136398805316]},{\"label\":\"subsample\",\"range\":[0.10011797463809005,0.9799498679072502],\"values\":[0.8641036086049773,0.42351899677373994,0.1489204622796759,0.7716990723716,0.12321665446887742,0.550670660731363,0.14579873466724041,0.5835344032719402,0.8420543934556504,0.6922391642966378,0.32741504193291027,0.33067887502858995,0.3111367953515123,0.256792050833362,0.42600560695138584,0.10067991336036988,0.25706293775642075,0.9720162131945156,0.9579389379488893,0.6618311795634584,0.9799498679072502,0.40826138718453586,0.3262283995837809,0.9643798982006413,0.9136065436435938,0.7448353178048039,0.23252703592320817,0.8657778636928055,0.7732712483228202,0.6859727834219125,0.6172147354271676,0.5182870502686763,0.4911088478916138,0.5087446778222241,0.47103322266923503,0.46386227368472477,0.3818043211143932,0.3855798774287145,0.47031693743234393,0.5913620207224031,0.7770956250018977,0.19486174650468158,0.1883034537803459,0.18004847413652347,0.17919979431922747,0.14304956578516687,0.15886119812956884,0.22143283254792107,0.125588543771325,0.24780379748286085,0.3042557698314964,0.17799637592696327,0.1884319045410475,0.10462335971375433,0.11046703291608764,0.10834025661980146,0.2824847771043394,0.20289102767112577,0.15860231815324,0.10374694577153078,0.2639044635507791,0.10547453361803132,0.1408943805745847,0.16856530531159825,0.21723766654381244,0.3461463497571491,0.35952762809526523,0.20675569300213925,0.29432544592891263,0.27275634193275783,0.34060028323803515,0.2247552136590441,0.22079274935505214,0.4431931178256549,0.20238747514857636,0.25031044390934976,0.1371711493357437,0.17926978557409268,0.2407616058997832,0.4071635882082735,0.33350956561289635,0.24188155885714385,0.53854460777053,0.24634576331435643,0.15900919167647665,0.27968494265666555,0.3641957607918793,0.3081515615190735,0.30479633878910045,0.19905364436873157,0.24322029813057944,0.24120558341254772,0.17074818845544845,0.1294816325049488,0.16601796620297685,0.2071252606351896,0.2091052048268604,0.18670953708378216,0.1886518500569982,0.14885350606201242,0.1432932444398809,0.12845933154339412,0.17629628233759317,0.15596611019941506,0.16942780799072543,0.12146451922610571,0.18537535065236035,0.1875969762486461,0.15550308979033944,0.11892583433206047,0.18150200457576404,0.14817824333774576,0.21652581607585142,0.1745356207742962,0.26546906881441523,0.1372159965674642,0.1025177875437108,0.10471371528674142,0.11678285124049975,0.1252436971834101,0.1517135384057987,0.14898667000385016,0.1063995911144949,0.16490833616627915,0.130063986419478,0.10011797463809005,0.12565019453232026,0.1544246011403326,0.13523260170782142,0.1831769181809,0.22694720947233266,0.18600895525135328,0.17127256459760168,0.12094455897493861,0.14146623261266475,0.19669916013728705,0.1642629269759909,0.14643190441569667,0.19461903742204978,0.14964604557909703,0.2139046268694197,0.1165837569509554,0.17204457035455545,0.17462339333558563,0.17640745186783505,0.13924074951433563,0.22821628525443494,0.17155656404806213,0.17670462314958849,0.17870816574958692,0.2021171224037448,0.15931586781586912,0.18379488312389333,0.2064464339914413,0.6338048075835312,0.16820207437776788,0.14130753071320862,0.22540407030108423,0.14897820332928075,0.1759685104104926,0.19862226187084456,0.17283086757744298,0.1830948378844187,0.1466239220195594,0.16221176568793028,0.1341622620918792,0.2088172472293991,0.18790917725138098,0.23251904275393537,0.2581921499448653,0.25492146473608884,0.723837454652277,0.8018572773655542,0.17023803434959506,0.1463548701413672,0.16220817331725318,0.21577067223725696,0.12124704996439953,0.12630724470562937,0.12958774887855784,0.19402011630710292,0.16464173080358366,0.11585204923530737,0.14913296846413052,0.17337119434785747,0.1401123927323465,0.1852569379215424,0.11764477634343973,0.15698273634054768,0.2049840370805071,0.2909253803925128,0.17140752429238665,0.17983218763223013,0.15165299888442713,0.19497258233876003,0.20397907660284606,0.2222454785657689,0.13650072084419312,0.16025231619941946,0.10187138362107714,0.1887501614910445,0.15529732468319563,0.9210335179263397,0.17074882365963645,0.17372319373741493,0.13775423725498925,0.1933135512427559,0.16478110814781852,0.12543505259822105,0.1964495609244023,0.14808577725076288,0.1758442283985981,0.15831970018424027,0.21376039736456098,0.1870028763350163,0.16313969666252573,0.13759098024694608,0.12702205172720926,0.1401607120828446,0.18199502066185536,0.5733298918162437,0.15412771763690397,0.119546748819844,0.150860771477668,0.17057781603159455,0.1365219456569751,0.16268569195073393,0.16686240282754505,0.15847853269996948,0.11584535737600347,0.19993777426201326,0.31676125415168765,0.33275030262426786,0.2645997648856606,0.17410097714611314,0.36580628793836323,0.21060347737745688,0.23820983478569865,0.188948995704356,0.1560989000689457,0.173250550593763,0.16958112105383374,0.1998966753764424,0.15987827629089152,0.15857877675250462,0.30787445233739,0.14530030869917715,0.1433784342761933,0.1398792287323734,0.39766382422349444,0.18453673714761523,0.13198348872909693,0.17087537217556262,0.2227214068772208,0.3224458478873691,0.19755631111371075,0.2789783424292135,0.15181689885117827,0.18135746376616407,0.13693759628415714,0.13898577331133283,0.12522761095635132,0.4513790584153665,0.21109910980592891,0.165755924061452,0.10061300136552742,0.19439485035759785,0.13402760772839126,0.1311555889905908,0.5042146936601972,0.17873060232639035,0.11921430443802555,0.13889931867587157,0.13213528293573007,0.1401636259751756,0.1159756395176131,0.13981538537998192,0.11254344953330497,0.1358490033107622,0.15173853643162627,0.15566886517062833,0.1511575153672365,0.16058997519384793,0.1603521786013537,0.16181627040085175,0.15548176730144378,0.1674587987104395,0.19316538548620724,0.1478389057576318,0.12000917011724471,0.25185446201325645,0.16284417566489495,0.18456590745828325,0.22662746086542793,0.17175272935889715,0.14486993373129267,0.14132244904914665,0.2873469525217172,0.10117354939445208,0.20343336545679389]}],\"labelangle\":30,\"labelside\":\"bottom\",\"line\":{\"color\":[0.7148,0.6975,0.7119,0.7158,0.7167,0.7157,0.7106,0.7104,0.6961,0.7134,0.7167,0.7152,0.7174,0.7156,0.7121,0.713,0.7158,0.7167,0.7167,0.7117,0.7167,0.7134,0.7148,0.7167,0.7167,0.7188,0.7155,0.7129,0.7158,0.7157,0.7109,0.717,0.7182,0.7159,0.7244,0.7139,0.7177,0.7118,0.7153,0.7167,0.7158,0.7182,0.7255,0.7345,0.7155,0.7195,0.7128,0.715,0.6854,0.7145,0.7153,0.73,0.717,0.7265,0.7212,0.7216,0.7207,0.72,0.7192,0.7122,0.6945,0.7165,0.7172,0.715,0.723,0.7254,0.715,0.7261,0.7152,0.7181,0.718,0.7197,0.7155,0.7154,0.7208,0.7135,0.7125,0.7106,0.7249,0.7118,0.7228,0.7244,0.7237,0.7223,0.7205,0.7164,0.7217,0.731,0.7153,0.7137,0.7245,0.7167,0.7244,0.7169,0.7266,0.7252,0.7192,0.7269,0.7183,0.7303,0.7127,0.7248,0.7323,0.7235,0.722,0.7214,0.73,0.6955,0.722,0.7226,0.7132,0.7196,0.7195,0.721,0.7216,0.7154,0.7271,0.7243,0.7285,0.7216,0.7292,0.725,0.7234,0.7206,0.7271,0.7224,0.7078,0.7085,0.7183,0.7294,0.7162,0.7252,0.7264,0.7249,0.6885,0.7166,0.7245,0.7285,0.7214,0.7183,0.7233,0.7173,0.7329,0.7336,0.7279,0.7179,0.7177,0.7365,0.7326,0.7169,0.7105,0.7214,0.7208,0.7178,0.7236,0.7224,0.7304,0.7172,0.7239,0.7285,0.7019,0.7267,0.72,0.7213,0.7185,0.7233,0.7207,0.718,0.7249,0.7302,0.7183,0.7211,0.7142,0.7285,0.7198,0.7181,0.7264,0.73,0.7135,0.7255,0.7208,0.7241,0.7229,0.7244,0.7237,0.7247,0.723,0.7273,0.7243,0.724,0.7117,0.725,0.7226,0.7248,0.7285,0.7261,0.7266,0.7233,0.7339,0.7176,0.7255,0.7269,0.7175,0.7309,0.7257,0.7156,0.7227,0.7237,0.7228,0.7272,0.723,0.7268,0.7183,0.7161,0.7233,0.7249,0.7297,0.7239,0.7254,0.7181,0.725,0.7292,0.7213,0.7254,0.7287,0.7189,0.733,0.7324,0.7217,0.7146,0.734,0.7324,0.7231,0.7275,0.7289,0.722,0.724,0.7282,0.7226,0.7285,0.7281,0.7296,0.7247,0.729,0.7282,0.7276,0.729,0.7236,0.7307,0.7241,0.7291,0.7279,0.7104,0.7231,0.721,0.7231,0.7209,0.7262,0.7234,0.73,0.7255,0.7278,0.7227,0.7241,0.7267,0.7258,0.7071,0.7315,0.7172,0.7228,0.7269,0.7208,0.735,0.7289,0.7313,0.7254,0.7252,0.7176,0.7245,0.7351,0.7302,0.7218,0.716,0.7321,0.7303,0.7261,0.7295,0.7154,0.722,0.7157,0.7153,0.7223,0.7272,0.7234,0.7272,0.7254,0.7259,0.7258,0.7296,0.7307],\"colorbar\":{\"title\":{\"text\":\"Objective Value\"}},\"colorscale\":[[0.0,\"rgb(247,251,255)\"],[0.125,\"rgb(222,235,247)\"],[0.25,\"rgb(198,219,239)\"],[0.375,\"rgb(158,202,225)\"],[0.5,\"rgb(107,174,214)\"],[0.625,\"rgb(66,146,198)\"],[0.75,\"rgb(33,113,181)\"],[0.875,\"rgb(8,81,156)\"],[1.0,\"rgb(8,48,107)\"]],\"reversescale\":false,\"showscale\":true},\"type\":\"parcoords\"}],                        {\"title\":{\"text\":\"Parallel Coordinate Plot\"},\"template\":{\"data\":{\"bar\":[{\"error_x\":{\"color\":\"#2a3f5f\"},\"error_y\":{\"color\":\"#2a3f5f\"},\"marker\":{\"line\":{\"color\":\"#E5ECF6\",\"width\":0.5},\"pattern\":{\"fillmode\":\"overlay\",\"size\":10,\"solidity\":0.2}},\"type\":\"bar\"}],\"barpolar\":[{\"marker\":{\"line\":{\"color\":\"#E5ECF6\",\"width\":0.5},\"pattern\":{\"fillmode\":\"overlay\",\"size\":10,\"solidity\":0.2}},\"type\":\"barpolar\"}],\"carpet\":[{\"aaxis\":{\"endlinecolor\":\"#2a3f5f\",\"gridcolor\":\"white\",\"linecolor\":\"white\",\"minorgridcolor\":\"white\",\"startlinecolor\":\"#2a3f5f\"},\"baxis\":{\"endlinecolor\":\"#2a3f5f\",\"gridcolor\":\"white\",\"linecolor\":\"white\",\"minorgridcolor\":\"white\",\"startlinecolor\":\"#2a3f5f\"},\"type\":\"carpet\"}],\"choropleth\":[{\"colorbar\":{\"outlinewidth\":0,\"ticks\":\"\"},\"type\":\"choropleth\"}],\"contour\":[{\"colorbar\":{\"outlinewidth\":0,\"ticks\":\"\"},\"colorscale\":[[0.0,\"#0d0887\"],[0.1111111111111111,\"#46039f\"],[0.2222222222222222,\"#7201a8\"],[0.3333333333333333,\"#9c179e\"],[0.4444444444444444,\"#bd3786\"],[0.5555555555555556,\"#d8576b\"],[0.6666666666666666,\"#ed7953\"],[0.7777777777777778,\"#fb9f3a\"],[0.8888888888888888,\"#fdca26\"],[1.0,\"#f0f921\"]],\"type\":\"contour\"}],\"contourcarpet\":[{\"colorbar\":{\"outlinewidth\":0,\"ticks\":\"\"},\"type\":\"contourcarpet\"}],\"heatmap\":[{\"colorbar\":{\"outlinewidth\":0,\"ticks\":\"\"},\"colorscale\":[[0.0,\"#0d0887\"],[0.1111111111111111,\"#46039f\"],[0.2222222222222222,\"#7201a8\"],[0.3333333333333333,\"#9c179e\"],[0.4444444444444444,\"#bd3786\"],[0.5555555555555556,\"#d8576b\"],[0.6666666666666666,\"#ed7953\"],[0.7777777777777778,\"#fb9f3a\"],[0.8888888888888888,\"#fdca26\"],[1.0,\"#f0f921\"]],\"type\":\"heatmap\"}],\"heatmapgl\":[{\"colorbar\":{\"outlinewidth\":0,\"ticks\":\"\"},\"colorscale\":[[0.0,\"#0d0887\"],[0.1111111111111111,\"#46039f\"],[0.2222222222222222,\"#7201a8\"],[0.3333333333333333,\"#9c179e\"],[0.4444444444444444,\"#bd3786\"],[0.5555555555555556,\"#d8576b\"],[0.6666666666666666,\"#ed7953\"],[0.7777777777777778,\"#fb9f3a\"],[0.8888888888888888,\"#fdca26\"],[1.0,\"#f0f921\"]],\"type\":\"heatmapgl\"}],\"histogram\":[{\"marker\":{\"pattern\":{\"fillmode\":\"overlay\",\"size\":10,\"solidity\":0.2}},\"type\":\"histogram\"}],\"histogram2d\":[{\"colorbar\":{\"outlinewidth\":0,\"ticks\":\"\"},\"colorscale\":[[0.0,\"#0d0887\"],[0.1111111111111111,\"#46039f\"],[0.2222222222222222,\"#7201a8\"],[0.3333333333333333,\"#9c179e\"],[0.4444444444444444,\"#bd3786\"],[0.5555555555555556,\"#d8576b\"],[0.6666666666666666,\"#ed7953\"],[0.7777777777777778,\"#fb9f3a\"],[0.8888888888888888,\"#fdca26\"],[1.0,\"#f0f921\"]],\"type\":\"histogram2d\"}],\"histogram2dcontour\":[{\"colorbar\":{\"outlinewidth\":0,\"ticks\":\"\"},\"colorscale\":[[0.0,\"#0d0887\"],[0.1111111111111111,\"#46039f\"],[0.2222222222222222,\"#7201a8\"],[0.3333333333333333,\"#9c179e\"],[0.4444444444444444,\"#bd3786\"],[0.5555555555555556,\"#d8576b\"],[0.6666666666666666,\"#ed7953\"],[0.7777777777777778,\"#fb9f3a\"],[0.8888888888888888,\"#fdca26\"],[1.0,\"#f0f921\"]],\"type\":\"histogram2dcontour\"}],\"mesh3d\":[{\"colorbar\":{\"outlinewidth\":0,\"ticks\":\"\"},\"type\":\"mesh3d\"}],\"parcoords\":[{\"line\":{\"colorbar\":{\"outlinewidth\":0,\"ticks\":\"\"}},\"type\":\"parcoords\"}],\"pie\":[{\"automargin\":true,\"type\":\"pie\"}],\"scatter\":[{\"marker\":{\"colorbar\":{\"outlinewidth\":0,\"ticks\":\"\"}},\"type\":\"scatter\"}],\"scatter3d\":[{\"line\":{\"colorbar\":{\"outlinewidth\":0,\"ticks\":\"\"}},\"marker\":{\"colorbar\":{\"outlinewidth\":0,\"ticks\":\"\"}},\"type\":\"scatter3d\"}],\"scattercarpet\":[{\"marker\":{\"colorbar\":{\"outlinewidth\":0,\"ticks\":\"\"}},\"type\":\"scattercarpet\"}],\"scattergeo\":[{\"marker\":{\"colorbar\":{\"outlinewidth\":0,\"ticks\":\"\"}},\"type\":\"scattergeo\"}],\"scattergl\":[{\"marker\":{\"colorbar\":{\"outlinewidth\":0,\"ticks\":\"\"}},\"type\":\"scattergl\"}],\"scattermapbox\":[{\"marker\":{\"colorbar\":{\"outlinewidth\":0,\"ticks\":\"\"}},\"type\":\"scattermapbox\"}],\"scatterpolar\":[{\"marker\":{\"colorbar\":{\"outlinewidth\":0,\"ticks\":\"\"}},\"type\":\"scatterpolar\"}],\"scatterpolargl\":[{\"marker\":{\"colorbar\":{\"outlinewidth\":0,\"ticks\":\"\"}},\"type\":\"scatterpolargl\"}],\"scatterternary\":[{\"marker\":{\"colorbar\":{\"outlinewidth\":0,\"ticks\":\"\"}},\"type\":\"scatterternary\"}],\"surface\":[{\"colorbar\":{\"outlinewidth\":0,\"ticks\":\"\"},\"colorscale\":[[0.0,\"#0d0887\"],[0.1111111111111111,\"#46039f\"],[0.2222222222222222,\"#7201a8\"],[0.3333333333333333,\"#9c179e\"],[0.4444444444444444,\"#bd3786\"],[0.5555555555555556,\"#d8576b\"],[0.6666666666666666,\"#ed7953\"],[0.7777777777777778,\"#fb9f3a\"],[0.8888888888888888,\"#fdca26\"],[1.0,\"#f0f921\"]],\"type\":\"surface\"}],\"table\":[{\"cells\":{\"fill\":{\"color\":\"#EBF0F8\"},\"line\":{\"color\":\"white\"}},\"header\":{\"fill\":{\"color\":\"#C8D4E3\"},\"line\":{\"color\":\"white\"}},\"type\":\"table\"}]},\"layout\":{\"annotationdefaults\":{\"arrowcolor\":\"#2a3f5f\",\"arrowhead\":0,\"arrowwidth\":1},\"autotypenumbers\":\"strict\",\"coloraxis\":{\"colorbar\":{\"outlinewidth\":0,\"ticks\":\"\"}},\"colorscale\":{\"diverging\":[[0,\"#8e0152\"],[0.1,\"#c51b7d\"],[0.2,\"#de77ae\"],[0.3,\"#f1b6da\"],[0.4,\"#fde0ef\"],[0.5,\"#f7f7f7\"],[0.6,\"#e6f5d0\"],[0.7,\"#b8e186\"],[0.8,\"#7fbc41\"],[0.9,\"#4d9221\"],[1,\"#276419\"]],\"sequential\":[[0.0,\"#0d0887\"],[0.1111111111111111,\"#46039f\"],[0.2222222222222222,\"#7201a8\"],[0.3333333333333333,\"#9c179e\"],[0.4444444444444444,\"#bd3786\"],[0.5555555555555556,\"#d8576b\"],[0.6666666666666666,\"#ed7953\"],[0.7777777777777778,\"#fb9f3a\"],[0.8888888888888888,\"#fdca26\"],[1.0,\"#f0f921\"]],\"sequentialminus\":[[0.0,\"#0d0887\"],[0.1111111111111111,\"#46039f\"],[0.2222222222222222,\"#7201a8\"],[0.3333333333333333,\"#9c179e\"],[0.4444444444444444,\"#bd3786\"],[0.5555555555555556,\"#d8576b\"],[0.6666666666666666,\"#ed7953\"],[0.7777777777777778,\"#fb9f3a\"],[0.8888888888888888,\"#fdca26\"],[1.0,\"#f0f921\"]]},\"colorway\":[\"#636efa\",\"#EF553B\",\"#00cc96\",\"#ab63fa\",\"#FFA15A\",\"#19d3f3\",\"#FF6692\",\"#B6E880\",\"#FF97FF\",\"#FECB52\"],\"font\":{\"color\":\"#2a3f5f\"},\"geo\":{\"bgcolor\":\"white\",\"lakecolor\":\"white\",\"landcolor\":\"#E5ECF6\",\"showlakes\":true,\"showland\":true,\"subunitcolor\":\"white\"},\"hoverlabel\":{\"align\":\"left\"},\"hovermode\":\"closest\",\"mapbox\":{\"style\":\"light\"},\"paper_bgcolor\":\"white\",\"plot_bgcolor\":\"#E5ECF6\",\"polar\":{\"angularaxis\":{\"gridcolor\":\"white\",\"linecolor\":\"white\",\"ticks\":\"\"},\"bgcolor\":\"#E5ECF6\",\"radialaxis\":{\"gridcolor\":\"white\",\"linecolor\":\"white\",\"ticks\":\"\"}},\"scene\":{\"xaxis\":{\"backgroundcolor\":\"#E5ECF6\",\"gridcolor\":\"white\",\"gridwidth\":2,\"linecolor\":\"white\",\"showbackground\":true,\"ticks\":\"\",\"zerolinecolor\":\"white\"},\"yaxis\":{\"backgroundcolor\":\"#E5ECF6\",\"gridcolor\":\"white\",\"gridwidth\":2,\"linecolor\":\"white\",\"showbackground\":true,\"ticks\":\"\",\"zerolinecolor\":\"white\"},\"zaxis\":{\"backgroundcolor\":\"#E5ECF6\",\"gridcolor\":\"white\",\"gridwidth\":2,\"linecolor\":\"white\",\"showbackground\":true,\"ticks\":\"\",\"zerolinecolor\":\"white\"}},\"shapedefaults\":{\"line\":{\"color\":\"#2a3f5f\"}},\"ternary\":{\"aaxis\":{\"gridcolor\":\"white\",\"linecolor\":\"white\",\"ticks\":\"\"},\"baxis\":{\"gridcolor\":\"white\",\"linecolor\":\"white\",\"ticks\":\"\"},\"bgcolor\":\"#E5ECF6\",\"caxis\":{\"gridcolor\":\"white\",\"linecolor\":\"white\",\"ticks\":\"\"}},\"title\":{\"x\":0.05},\"xaxis\":{\"automargin\":true,\"gridcolor\":\"white\",\"linecolor\":\"white\",\"ticks\":\"\",\"title\":{\"standoff\":15},\"zerolinecolor\":\"white\",\"zerolinewidth\":2},\"yaxis\":{\"automargin\":true,\"gridcolor\":\"white\",\"linecolor\":\"white\",\"ticks\":\"\",\"title\":{\"standoff\":15},\"zerolinecolor\":\"white\",\"zerolinewidth\":2}}}},                        {\"responsive\": true}                    ).then(function(){\n",
              "                            \n",
              "var gd = document.getElementById('99c73aac-bb19-4b78-8c48-e61b85f2f08f');\n",
              "var x = new MutationObserver(function (mutations, observer) {{\n",
              "        var display = window.getComputedStyle(gd).display;\n",
              "        if (!display || display === 'none') {{\n",
              "            console.log([gd, 'removed!']);\n",
              "            Plotly.purge(gd);\n",
              "            observer.disconnect();\n",
              "        }}\n",
              "}});\n",
              "\n",
              "// Listen for the removal of the full notebook cells\n",
              "var notebookContainer = gd.closest('#notebook-container');\n",
              "if (notebookContainer) {{\n",
              "    x.observe(notebookContainer, {childList: true});\n",
              "}}\n",
              "\n",
              "// Listen for the clearing of the current output cell\n",
              "var outputEl = gd.closest('.output');\n",
              "if (outputEl) {{\n",
              "    x.observe(outputEl, {childList: true});\n",
              "}}\n",
              "\n",
              "                        })                };                            </script>        </div>\n",
              "</body>\n",
              "</html>"
            ]
          },
          "metadata": {}
        }
      ]
    },
    {
      "cell_type": "markdown",
      "source": [
        "Сохраняем их в переменную:"
      ],
      "metadata": {
        "id": "ofebLR0LwUHU"
      }
    },
    {
      "cell_type": "code",
      "source": [
        "best_param_1 = {'learning_rate': 0.016202975941181315, 'n_estimators': 77, 'max_depth': 7, 'scale_pos_weight': 1.16267275066011, 'min_data_in_leaf': 7, 'l2_leaf_reg': 0.11627862676056576, 'max_bin': 333, 'subsample': 0.4189444667844855, 'random_state': 42}"
      ],
      "metadata": {
        "id": "k0Ybo6sqLku3"
      },
      "execution_count": 30,
      "outputs": []
    },
    {
      "cell_type": "markdown",
      "source": [
        "Функция для стратифицированной kfold кроссвалидации:"
      ],
      "metadata": {
        "id": "AYIj0_N4wmt5"
      }
    },
    {
      "cell_type": "code",
      "source": [
        "def kfold(X, y, model, splits):\n",
        "\n",
        "  accuracy_list = []\n",
        "  precision_list = []\n",
        "  recall_list = []  \n",
        "  f1_list = []\n",
        "\n",
        "  kf = StratifiedKFold(n_splits = splits, random_state = 42, shuffle = True)\n",
        "  X = X.reset_index(drop=True)\n",
        "  y = y.reset_index(drop=True)\n",
        "      \n",
        "  for i, (train_index, test_index) in enumerate(kf.split(X, y)):\n",
        "          \n",
        "    X_train, X_test = X.iloc[train_index], X.iloc[test_index]\n",
        "    y_train, y_test = y[train_index], y[test_index]\n",
        "    \n",
        "    model.fit(X_train, y_train)\n",
        "    predict = model.predict(X_test)\n",
        "\n",
        "    acc = accuracy_score(y_test, predict)\n",
        "    precision = precision_score(y_test, predict, zero_division=0)\n",
        "    recall = recall_score(y_test, predict, average='macro')\n",
        "    f1 = f1_score(y_test, predict)\n",
        "\n",
        "    # print('fold:', i, 'acc:', acc)\n",
        "    # print('fold:', i, 'precision:', precision)\n",
        "    print(i, round(recall,4))\n",
        "    # print('fold:', i, 'f1:', f1)\n",
        "\n",
        "    accuracy_list.append(acc)\n",
        "    precision_list.append(precision)\n",
        "    recall_list.append(recall)\n",
        "    f1_list.append(f1)\n",
        "            \n",
        "  print('accuracy:', round(np.mean(accuracy_list),4))\n",
        "  print('--------------')\n",
        "  print('precision:', round(np.mean(precision_list),4))\n",
        "  print('--------------')\n",
        "  print('recall-macro:', round(np.mean(recall_list),4))\n",
        "  print('--------------')\n",
        "  print('f1_score:', round(np.mean(f1_list),4))"
      ],
      "metadata": {
        "id": "dSynXMk_eyTU"
      },
      "execution_count": 31,
      "outputs": []
    },
    {
      "cell_type": "markdown",
      "source": [
        "Проверяем еще раз качество модели с помощью найденных параметров:"
      ],
      "metadata": {
        "id": "LkWx0XzHwtv_"
      }
    },
    {
      "cell_type": "code",
      "source": [
        "cb_1 = CatBoostClassifier(verbose=False, **best_param_1)\n",
        "\n",
        "kfold(x_train, y_1, cb_1, 3)"
      ],
      "metadata": {
        "colab": {
          "base_uri": "https://localhost:8080/"
        },
        "id": "ya_ve6qMDCGJ",
        "outputId": "c2ff13e8-fab1-48bf-ae6b-e2bd4f9c8154"
      },
      "execution_count": 32,
      "outputs": [
        {
          "output_type": "stream",
          "name": "stdout",
          "text": [
            "0 0.7441\n",
            "1 0.7453\n",
            "2 0.7145\n",
            "accuracy: 0.7285\n",
            "--------------\n",
            "precision: 0.6695\n",
            "--------------\n",
            "recall-macro: 0.7346\n",
            "--------------\n",
            "f1_score: 0.7408\n"
          ]
        }
      ]
    },
    {
      "cell_type": "markdown",
      "source": [
        "Обучаем алгоритм для всех тренировочных данный и делаем прогноз для тестовых:"
      ],
      "metadata": {
        "id": "BYHADPt3wz5y"
      }
    },
    {
      "cell_type": "code",
      "source": [
        "#обучаем модель на всех данных\n",
        "cb_1.fit(x_train, y_1)\n",
        "\n",
        "#записываем прогноз\n",
        "pred_1 = cb_1.predict(x_test)\n",
        "\n",
        "print(len(pred_1))\n",
        "np.unique(pred_1, return_counts=True)"
      ],
      "metadata": {
        "colab": {
          "base_uri": "https://localhost:8080/"
        },
        "id": "Kf_ktqWRfg36",
        "outputId": "90bdef78-2f8b-459b-d6fc-1b049a72db15"
      },
      "execution_count": 33,
      "outputs": [
        {
          "output_type": "stream",
          "name": "stdout",
          "text": [
            "638\n"
          ]
        },
        {
          "output_type": "execute_result",
          "data": {
            "text/plain": [
              "(array([0., 1.]), array([287, 351]))"
            ]
          },
          "metadata": {},
          "execution_count": 33
        }
      ]
    },
    {
      "cell_type": "markdown",
      "source": [
        "Посмотрим на значимость переменных при построении алгоритма:"
      ],
      "metadata": {
        "id": "3cHigG2d1UdJ"
      }
    },
    {
      "cell_type": "code",
      "source": [
        "feature_importance = cb_1.feature_importances_\n",
        "sorted_idx = np.argsort(feature_importance)\n",
        "fig = plt.figure(figsize=(12, 12))\n",
        "plt.barh(range(len(sorted_idx)), feature_importance[sorted_idx], align='center')\n",
        "plt.yticks(range(len(sorted_idx)), np.array(x_train.columns)[sorted_idx])\n",
        "plt.title('Feature Importance')\n",
        "plt.show()"
      ],
      "metadata": {
        "colab": {
          "base_uri": "https://localhost:8080/",
          "height": 716
        },
        "id": "VMB8aMin1Jo6",
        "outputId": "131115c7-ff67-43c0-9730-98775bcc04fd"
      },
      "execution_count": 34,
      "outputs": [
        {
          "output_type": "display_data",
          "data": {
            "text/plain": [
              "<Figure size 864x864 with 1 Axes>"
            ],
            "image/png": "[encoded data removed]"
          },
          "metadata": {
            "needs_background": "light"
          }
        }
      ]
    },
    {
      "cell_type": "markdown",
      "source": [
        "Аналогично повторяем процедуру поиска гиперпараметров, обучения на всех данных и построения прогнозов с помощью других бустингов для следующих 3 переменных:"
      ],
      "metadata": {
        "id": "0xzmW-NtxBDy"
      }
    },
    {
      "cell_type": "code",
      "source": [
        "def objective(trial, X=x_train, y=y_2):\n",
        "\n",
        "  recall_list = []  \n",
        "\n",
        "  kf = StratifiedKFold(n_splits = 3, random_state = 42, shuffle = True)\n",
        "  X = X.reset_index(drop=True)\n",
        "  y = y.reset_index(drop=True)\n",
        "\n",
        "  param = {\n",
        "        'learning_rate': trial.suggest_uniform('learning_rate', 0.004, 0.02),\n",
        "        'n_estimators':  trial.suggest_int('n_estimators', 50, 300),\n",
        "        'max_depth': trial.suggest_int('max_depth', 2, 6),\n",
        "        'scale_pos_weight': trial.suggest_uniform('scale_pos_weight', 1.0, 25.0),\n",
        "        'min_data_in_leaf': trial.suggest_int('min_data_in_leaf', 1, 300),\n",
        "        'l2_leaf_reg': trial.suggest_loguniform('l2_leaf_reg', 1e-3, 10.0),\n",
        "        'max_bin': trial.suggest_int('max_bin', 200, 400),\n",
        "        'subsample': trial.suggest_uniform('subsample', 0.1, 1.0),\n",
        "        'random_state': trial.suggest_categorical('random_state', [42]),\n",
        "    }\n",
        "\n",
        "\n",
        "  cb = CatBoostClassifier(verbose=False, **param)\n",
        "  for i, (train_index, test_index) in enumerate(kf.split(X, y)):\n",
        "          \n",
        "    X_train, X_test = X.iloc[train_index], X.iloc[test_index]\n",
        "    y_train, y_test = y[train_index], y[test_index]\n",
        "    \n",
        "    cb.fit(X_train, y_train)\n",
        "    predict = cb.predict(X_test)\n",
        "\n",
        "    recall = recall_score(y_test, predict, average='macro')\n",
        "    recall_list.append(recall)\n",
        "            \n",
        "  return float(round(np.mean(recall_list), 4))"
      ],
      "metadata": {
        "id": "_V70l3b32vQ4"
      },
      "execution_count": null,
      "outputs": []
    },
    {
      "cell_type": "code",
      "source": [
        "study = optuna.create_study(direction=\"maximize\")\n",
        "study.optimize(objective, n_trials=300)\n",
        "print(study.best_trial)\n",
        "print('Best trial:', study.best_trial.params)"
      ],
      "metadata": {
        "id": "UfCundO43BKm"
      },
      "execution_count": null,
      "outputs": []
    },
    {
      "cell_type": "code",
      "source": [
        "best_param_2 = {'learning_rate': 0.017472316351031955, 'n_estimators': 98, 'max_depth': 2, 'scale_pos_weight': 24.983258371687516, 'min_data_in_leaf': 218, 'l2_leaf_reg': 7.9761118886962175, 'max_bin': 323, 'subsample': 0.23879145814403058, 'random_state': 42}"
      ],
      "metadata": {
        "id": "y7XY6JBKw3Gz"
      },
      "execution_count": null,
      "outputs": []
    },
    {
      "cell_type": "code",
      "source": [
        "cb_2 = CatBoostClassifier(verbose=False, **best_param_2)\n",
        "\n",
        "kfold(x_train, y_2, cb_2, 3)"
      ],
      "metadata": {
        "colab": {
          "base_uri": "https://localhost:8080/"
        },
        "id": "rE0mSx5mXcdQ",
        "outputId": "38a08eac-3af8-45bc-8a7f-f4a8b9767ddc"
      },
      "execution_count": null,
      "outputs": [
        {
          "output_type": "stream",
          "name": "stdout",
          "text": [
            "0 0.6175\n",
            "1 0.6602\n",
            "2 0.6696\n",
            "accuracy: 0.6415\n",
            "--------------\n",
            "precision: 0.0764\n",
            "--------------\n",
            "recall-macro: 0.6491\n",
            "--------------\n",
            "f1_score: 0.1368\n"
          ]
        }
      ]
    },
    {
      "cell_type": "code",
      "source": [
        "#обучаем модель на всех данных\n",
        "cb_2.fit(x_train, y_2)\n",
        "\n",
        "#записываем прогноз\n",
        "pred_2 = cb_2.predict(x_test)\n",
        "\n",
        "print(len(pred_2))\n",
        "np.unique(pred_2, return_counts=True)"
      ],
      "metadata": {
        "colab": {
          "base_uri": "https://localhost:8080/"
        },
        "id": "KETqdi8dou1l",
        "outputId": "16c52a7a-7189-4a34-c391-0b7fa7ae9b51"
      },
      "execution_count": null,
      "outputs": [
        {
          "output_type": "stream",
          "name": "stdout",
          "text": [
            "638\n"
          ]
        },
        {
          "output_type": "execute_result",
          "data": {
            "text/plain": [
              "(array([0., 1.]), array([377, 261]))"
            ]
          },
          "metadata": {},
          "execution_count": 38
        }
      ]
    },
    {
      "cell_type": "code",
      "source": [
        "def objective(trial, X=x_train, y=y_3):\n",
        "\n",
        "  recall_list = []  \n",
        "\n",
        "  kf = StratifiedKFold(n_splits = 3, random_state = 42, shuffle = True)\n",
        "  X = X.reset_index(drop=True)\n",
        "  y = y.reset_index(drop=True)\n",
        "\n",
        "  param = {\n",
        "        'learning_rate': trial.suggest_uniform('learning_rate', 0.004, 0.02),\n",
        "        'n_estimators':  trial.suggest_int('n_estimators', 50, 300),\n",
        "        'max_depth': trial.suggest_int('max_depth', 2, 6),\n",
        "        'scale_pos_weight': trial.suggest_uniform('scale_pos_weight', 1.0, 10.0),\n",
        "        'min_data_in_leaf': trial.suggest_int('min_data_in_leaf', 1, 300),\n",
        "        'l2_leaf_reg': trial.suggest_loguniform('l2_leaf_reg', 1e-3, 10.0),\n",
        "        'max_bin': trial.suggest_int('max_bin', 200, 400),\n",
        "        'subsample': trial.suggest_uniform('subsample', 0.1, 1.0),\n",
        "        'random_state': trial.suggest_categorical('random_state', [42]),\n",
        "    }\n",
        "\n",
        "\n",
        "  cb = CatBoostClassifier(verbose=False, **param)\n",
        "  for i, (train_index, test_index) in enumerate(kf.split(X, y)):\n",
        "          \n",
        "    X_train, X_test = X.iloc[train_index], X.iloc[test_index]\n",
        "    y_train, y_test = y[train_index], y[test_index]\n",
        "    \n",
        "    cb.fit(X_train, y_train)\n",
        "    predict = cb.predict(X_test)\n",
        "\n",
        "    recall = recall_score(y_test, predict, average='macro')\n",
        "    recall_list.append(recall)\n",
        "            \n",
        "  return float(round(np.mean(recall_list), 4))"
      ],
      "metadata": {
        "id": "qlOmmWab3Xxx"
      },
      "execution_count": null,
      "outputs": []
    },
    {
      "cell_type": "code",
      "source": [
        "study = optuna.create_study(direction=\"maximize\")\n",
        "study.optimize(objective, n_trials=300)\n",
        "print(study.best_trial)\n",
        "print('Best trial:', study.best_trial.params)"
      ],
      "metadata": {
        "id": "0SbNHYe73e2Y"
      },
      "execution_count": null,
      "outputs": []
    },
    {
      "cell_type": "code",
      "source": [
        "best_param_3 = {'learning_rate': 0.0096683232466077, 'n_estimators': 217, 'max_depth': 2, 'scale_pos_weight': 7.102096433896974, 'min_data_in_leaf': 85, 'l2_leaf_reg': 5.853117668916306, 'max_bin': 386, 'subsample': 0.21663660636404822, 'random_state': 42}"
      ],
      "metadata": {
        "id": "t9SsztHo3tKW"
      },
      "execution_count": null,
      "outputs": []
    },
    {
      "cell_type": "code",
      "source": [
        "cb_3 = CatBoostClassifier(verbose=False, **best_param_3)\n",
        "\n",
        "kfold(x_train, y_3, cb_3, 3)"
      ],
      "metadata": {
        "colab": {
          "base_uri": "https://localhost:8080/"
        },
        "id": "Zpnic0ALSJVm",
        "outputId": "57f026ff-ce6e-4d6b-c2d5-d1c7f2cd6ee7"
      },
      "execution_count": null,
      "outputs": [
        {
          "output_type": "stream",
          "name": "stdout",
          "text": [
            "0 0.7102\n",
            "1 0.7266\n",
            "2 0.6923\n",
            "accuracy: 0.6971\n",
            "--------------\n",
            "precision: 0.2491\n",
            "--------------\n",
            "recall-macro: 0.7097\n",
            "--------------\n",
            "f1_score: 0.3709\n"
          ]
        }
      ]
    },
    {
      "cell_type": "code",
      "source": [
        "#обучаем модель на всех данных\n",
        "cb_3.fit(x_train, y_3)\n",
        "\n",
        "#записываем прогноз\n",
        "pred_3 = cb_3.predict(x_test)\n",
        "\n",
        "print(len(pred_3))\n",
        "np.unique(pred_3, return_counts=True)"
      ],
      "metadata": {
        "colab": {
          "base_uri": "https://localhost:8080/"
        },
        "id": "yluyAlzopE2Z",
        "outputId": "32816e10-9873-4728-fe2b-8a60b1ade54c"
      },
      "execution_count": null,
      "outputs": [
        {
          "output_type": "stream",
          "name": "stdout",
          "text": [
            "638\n"
          ]
        },
        {
          "output_type": "execute_result",
          "data": {
            "text/plain": [
              "(array([0., 1.]), array([435, 203]))"
            ]
          },
          "metadata": {},
          "execution_count": 41
        }
      ]
    },
    {
      "cell_type": "code",
      "source": [
        "def objective(trial, X=x_train, y=y_4):\n",
        "\n",
        "  recall_list = []  \n",
        "\n",
        "  kf = StratifiedKFold(n_splits = 3, random_state = 42, shuffle = True)\n",
        "  X = X.reset_index(drop=True)\n",
        "  y = y.reset_index(drop=True)\n",
        "\n",
        "  param = {\n",
        "        'learning_rate': trial.suggest_uniform('learning_rate', 0.004, 0.02),\n",
        "        'n_estimators':  trial.suggest_int('n_estimators', 50, 300),\n",
        "        'max_depth': trial.suggest_int('max_depth', 2, 10),\n",
        "        'scale_pos_weight': trial.suggest_uniform('scale_pos_weight', 1.0, 15.0),\n",
        "        'min_data_in_leaf': trial.suggest_int('min_data_in_leaf', 1, 300),\n",
        "        'l2_leaf_reg': trial.suggest_loguniform('l2_leaf_reg', 1e-3, 10.0),\n",
        "        'max_bin': trial.suggest_int('max_bin', 200, 400),\n",
        "        'subsample': trial.suggest_uniform('subsample', 0.1, 1.0),\n",
        "        'random_state': trial.suggest_categorical('random_state', [42]),\n",
        "    }\n",
        "\n",
        "\n",
        "  cb = CatBoostClassifier(verbose=False, **param)\n",
        "  for i, (train_index, test_index) in enumerate(kf.split(X, y)):\n",
        "          \n",
        "    X_train, X_test = X.iloc[train_index], X.iloc[test_index]\n",
        "    y_train, y_test = y[train_index], y[test_index]\n",
        "    \n",
        "    cb.fit(X_train, y_train)\n",
        "    predict = cb.predict(X_test)\n",
        "\n",
        "    recall = recall_score(y_test, predict, average='macro')\n",
        "    recall_list.append(recall)\n",
        "            \n",
        "  return float(round(np.mean(recall_list), 4))"
      ],
      "metadata": {
        "id": "ud3KHl4U3imX"
      },
      "execution_count": null,
      "outputs": []
    },
    {
      "cell_type": "code",
      "source": [
        "study = optuna.create_study(direction=\"maximize\")\n",
        "study.optimize(objective, n_trials=300)\n",
        "print(study.best_trial)\n",
        "print('Best trial:', study.best_trial.params)"
      ],
      "metadata": {
        "id": "nAr8XsLq3nWO"
      },
      "execution_count": null,
      "outputs": []
    },
    {
      "cell_type": "code",
      "source": [
        "best_param_4 = {'learning_rate': 0.009059934523996924, 'n_estimators': 164, 'max_depth': 8, 'scale_pos_weight': 13.962506892014368, 'min_data_in_leaf': 218, 'l2_leaf_reg': 8.78223522800209, 'max_bin': 267, 'subsample': 0.6665198690768868, 'random_state': 42}"
      ],
      "metadata": {
        "id": "atVLAuYq4tZj"
      },
      "execution_count": null,
      "outputs": []
    },
    {
      "cell_type": "code",
      "source": [
        "cb_4 = CatBoostClassifier(verbose=False, **best_param_4)\n",
        "\n",
        "kfold(x_train, y_4, cb_4, 3)"
      ],
      "metadata": {
        "colab": {
          "base_uri": "https://localhost:8080/"
        },
        "id": "YyONK-9PTF8N",
        "outputId": "6d7217f2-6a9e-4742-cc3a-ee74c56c5c71"
      },
      "execution_count": null,
      "outputs": [
        {
          "output_type": "stream",
          "name": "stdout",
          "text": [
            "0 0.7297\n",
            "1 0.6637\n",
            "2 0.7473\n",
            "accuracy: 0.6761\n",
            "--------------\n",
            "precision: 0.2048\n",
            "--------------\n",
            "recall-macro: 0.7135\n",
            "--------------\n",
            "f1_score: 0.3223\n"
          ]
        }
      ]
    },
    {
      "cell_type": "code",
      "source": [
        "#обучаем модель на всех данных\n",
        "cb_4.fit(x_train, y_4)\n",
        "\n",
        "#записываем прогноз\n",
        "pred_4 = cb_4.predict(x_test)\n",
        "\n",
        "print(len(pred_4))\n",
        "np.unique(pred_4, return_counts=True)"
      ],
      "metadata": {
        "colab": {
          "base_uri": "https://localhost:8080/"
        },
        "id": "Pg-x1cwZsoWy",
        "outputId": "dc8b0581-03e7-4f6f-e7c0-3e7955354e64"
      },
      "execution_count": null,
      "outputs": [
        {
          "output_type": "stream",
          "name": "stdout",
          "text": [
            "638\n"
          ]
        },
        {
          "output_type": "execute_result",
          "data": {
            "text/plain": [
              "(array([0., 1.]), array([381, 257]))"
            ]
          },
          "metadata": {},
          "execution_count": 46
        }
      ]
    },
    {
      "cell_type": "markdown",
      "source": [
        "Для переменной \"Прочие заболевания сердца\" подберем параметры эмпирически, так как из-за сильной несбалансированности трудно соблюдать баланс между accuracy и roc_auc_macro:"
      ],
      "metadata": {
        "id": "naJoZKYwyOLw"
      }
    },
    {
      "cell_type": "code",
      "source": [
        "cb_5 = CatBoostClassifier(random_state = 42, learning_rate = 0.01, max_depth=4,\n",
        "                        n_estimators = 100, verbose=False,\n",
        "                        class_weights=[1, 12])\n",
        "\n",
        "kfold(x_train, y_5, cb_5, 3)"
      ],
      "metadata": {
        "colab": {
          "base_uri": "https://localhost:8080/"
        },
        "id": "IdGfs3w9UCBD",
        "outputId": "4a878d9b-3c86-4a0c-f5fe-05bee45a1496"
      },
      "execution_count": null,
      "outputs": [
        {
          "output_type": "stream",
          "name": "stdout",
          "text": [
            "0 0.5398\n",
            "1 0.5663\n",
            "2 0.594\n",
            "accuracy: 0.4979\n",
            "--------------\n",
            "precision: 0.1113\n",
            "--------------\n",
            "recall-macro: 0.5667\n",
            "--------------\n",
            "f1_score: 0.1899\n"
          ]
        }
      ]
    },
    {
      "cell_type": "code",
      "source": [
        "#обучаем модель на всех данных\n",
        "cb_5.fit(x_train, y_5)\n",
        "\n",
        "#записываем прогноз\n",
        "pred_5 = cb_5.predict(x_test)\n",
        "\n",
        "print(len(pred_5))\n",
        "np.unique(pred_5, return_counts=True)"
      ],
      "metadata": {
        "colab": {
          "base_uri": "https://localhost:8080/"
        },
        "id": "UJAWzh3gsyyX",
        "outputId": "2eee88ad-be54-44aa-e50c-ca0f271b41bc"
      },
      "execution_count": null,
      "outputs": [
        {
          "output_type": "stream",
          "name": "stdout",
          "text": [
            "638\n"
          ]
        },
        {
          "output_type": "execute_result",
          "data": {
            "text/plain": [
              "(array([0., 1.]), array([300, 338]))"
            ]
          },
          "metadata": {},
          "execution_count": 51
        }
      ]
    },
    {
      "cell_type": "code",
      "source": [
        ""
      ],
      "metadata": {
        "id": "kM4j6hXgeGPY"
      },
      "execution_count": null,
      "outputs": []
    },
    {
      "cell_type": "markdown",
      "source": [
        "# Оформление итогового прогноза"
      ],
      "metadata": {
        "id": "4R88kkqqh9Pd"
      }
    },
    {
      "cell_type": "code",
      "source": [
        "sample = pd.read_csv(\"sample_solution.csv\")\n",
        "sample.head(2)"
      ],
      "metadata": {
        "colab": {
          "base_uri": "https://localhost:8080/",
          "height": 112
        },
        "id": "WmjWeZXBsy1A",
        "outputId": "59490bbf-1c2b-466a-9408-08a61f0312c6"
      },
      "execution_count": null,
      "outputs": [
        {
          "output_type": "execute_result",
          "data": {
            "text/plain": [
              "              ID  Артериальная гипертензия  ОНМК  \\\n",
              "0  54-001-019-01                         0     0   \n",
              "1  54-002-133-01                         0     0   \n",
              "\n",
              "   Стенокардия, ИБС, инфаркт миокарда  Сердечная недостаточность  \\\n",
              "0                                   0                          0   \n",
              "1                                   0                          0   \n",
              "\n",
              "   Прочие заболевания сердца  \n",
              "0                          0  \n",
              "1                          0  "
            ],
            "text/html": [
              "\n",
              "  <div id=\"df-0b3a66ac-8fdb-4e3e-b301-6f39eac71876\">\n",
              "    <div class=\"colab-df-container\">\n",
              "      <div>\n",
              "<style scoped>\n",
              "    .dataframe tbody tr th:only-of-type {\n",
              "        vertical-align: middle;\n",
              "    }\n",
              "\n",
              "    .dataframe tbody tr th {\n",
              "        vertical-align: top;\n",
              "    }\n",
              "\n",
              "    .dataframe thead th {\n",
              "        text-align: right;\n",
              "    }\n",
              "</style>\n",
              "<table border=\"1\" class=\"dataframe\">\n",
              "  <thead>\n",
              "    <tr style=\"text-align: right;\">\n",
              "      <th></th>\n",
              "      <th>ID</th>\n",
              "      <th>Артериальная гипертензия</th>\n",
              "      <th>ОНМК</th>\n",
              "      <th>Стенокардия, ИБС, инфаркт миокарда</th>\n",
              "      <th>Сердечная недостаточность</th>\n",
              "      <th>Прочие заболевания сердца</th>\n",
              "    </tr>\n",
              "  </thead>\n",
              "  <tbody>\n",
              "    <tr>\n",
              "      <th>0</th>\n",
              "      <td>54-001-019-01</td>\n",
              "      <td>0</td>\n",
              "      <td>0</td>\n",
              "      <td>0</td>\n",
              "      <td>0</td>\n",
              "      <td>0</td>\n",
              "    </tr>\n",
              "    <tr>\n",
              "      <th>1</th>\n",
              "      <td>54-002-133-01</td>\n",
              "      <td>0</td>\n",
              "      <td>0</td>\n",
              "      <td>0</td>\n",
              "      <td>0</td>\n",
              "      <td>0</td>\n",
              "    </tr>\n",
              "  </tbody>\n",
              "</table>\n",
              "</div>\n",
              "      <button class=\"colab-df-convert\" onclick=\"convertToInteractive('df-0b3a66ac-8fdb-4e3e-b301-6f39eac71876')\"\n",
              "              title=\"Convert this dataframe to an interactive table.\"\n",
              "              style=\"display:none;\">\n",
              "        \n",
              "  <svg xmlns=\"http://www.w3.org/2000/svg\" height=\"24px\"viewBox=\"0 0 24 24\"\n",
              "       width=\"24px\">\n",
              "    <path d=\"M0 0h24v24H0V0z\" fill=\"none\"/>\n",
              "    <path d=\"M18.56 5.44l.94 2.06.94-2.06 2.06-.94-2.06-.94-.94-2.06-.94 2.06-2.06.94zm-11 1L8.5 8.5l.94-2.06 2.06-.94-2.06-.94L8.5 2.5l-.94 2.06-2.06.94zm10 10l.94 2.06.94-2.06 2.06-.94-2.06-.94-.94-2.06-.94 2.06-2.06.94z\"/><path d=\"M17.41 7.96l-1.37-1.37c-.4-.4-.92-.59-1.43-.59-.52 0-1.04.2-1.43.59L10.3 9.45l-7.72 7.72c-.78.78-.78 2.05 0 2.83L4 21.41c.39.39.9.59 1.41.59.51 0 1.02-.2 1.41-.59l7.78-7.78 2.81-2.81c.8-.78.8-2.07 0-2.86zM5.41 20L4 18.59l7.72-7.72 1.47 1.35L5.41 20z\"/>\n",
              "  </svg>\n",
              "      </button>\n",
              "      \n",
              "  <style>\n",
              "    .colab-df-container {\n",
              "      display:flex;\n",
              "      flex-wrap:wrap;\n",
              "      gap: 12px;\n",
              "    }\n",
              "\n",
              "    .colab-df-convert {\n",
              "      background-color: #E8F0FE;\n",
              "      border: none;\n",
              "      border-radius: 50%;\n",
              "      cursor: pointer;\n",
              "      display: none;\n",
              "      fill: #1967D2;\n",
              "      height: 32px;\n",
              "      padding: 0 0 0 0;\n",
              "      width: 32px;\n",
              "    }\n",
              "\n",
              "    .colab-df-convert:hover {\n",
              "      background-color: #E2EBFA;\n",
              "      box-shadow: 0px 1px 2px rgba(60, 64, 67, 0.3), 0px 1px 3px 1px rgba(60, 64, 67, 0.15);\n",
              "      fill: #174EA6;\n",
              "    }\n",
              "\n",
              "    [theme=dark] .colab-df-convert {\n",
              "      background-color: #3B4455;\n",
              "      fill: #D2E3FC;\n",
              "    }\n",
              "\n",
              "    [theme=dark] .colab-df-convert:hover {\n",
              "      background-color: #434B5C;\n",
              "      box-shadow: 0px 1px 3px 1px rgba(0, 0, 0, 0.15);\n",
              "      filter: drop-shadow(0px 1px 2px rgba(0, 0, 0, 0.3));\n",
              "      fill: #FFFFFF;\n",
              "    }\n",
              "  </style>\n",
              "\n",
              "      <script>\n",
              "        const buttonEl =\n",
              "          document.querySelector('#df-0b3a66ac-8fdb-4e3e-b301-6f39eac71876 button.colab-df-convert');\n",
              "        buttonEl.style.display =\n",
              "          google.colab.kernel.accessAllowed ? 'block' : 'none';\n",
              "\n",
              "        async function convertToInteractive(key) {\n",
              "          const element = document.querySelector('#df-0b3a66ac-8fdb-4e3e-b301-6f39eac71876');\n",
              "          const dataTable =\n",
              "            await google.colab.kernel.invokeFunction('convertToInteractive',\n",
              "                                                     [key], {});\n",
              "          if (!dataTable) return;\n",
              "\n",
              "          const docLinkHtml = 'Like what you see? Visit the ' +\n",
              "            '<a target=\"_blank\" href=https://colab.research.google.com/notebooks/data_table.ipynb>data table notebook</a>'\n",
              "            + ' to learn more about interactive tables.';\n",
              "          element.innerHTML = '';\n",
              "          dataTable['output_type'] = 'display_data';\n",
              "          await google.colab.output.renderOutput(dataTable, element);\n",
              "          const docLink = document.createElement('div');\n",
              "          docLink.innerHTML = docLinkHtml;\n",
              "          element.appendChild(docLink);\n",
              "        }\n",
              "      </script>\n",
              "    </div>\n",
              "  </div>\n",
              "  "
            ]
          },
          "metadata": {},
          "execution_count": 52
        }
      ]
    },
    {
      "cell_type": "code",
      "source": [
        "sample['Артериальная гипертензия'] = pred_1\n",
        "sample['ОНМК'] = pred_2\n",
        "sample['Стенокардия, ИБС, инфаркт миокарда'] = pred_3\n",
        "sample['Сердечная недостаточность'] = pred_4\n",
        "sample['Прочие заболевания сердца'] = pred_5\n",
        "\n",
        "sample = sample.astype({'Артериальная гипертензия': int, 'ОНМК': int, 'Стенокардия, ИБС, инфаркт миокарда': int,\n",
        "                        'Сердечная недостаточность': int, 'Прочие заболевания сердца': int})\n",
        "\n",
        "sample.dtypes"
      ],
      "metadata": {
        "id": "o0kN2i7dsy6d",
        "colab": {
          "base_uri": "https://localhost:8080/"
        },
        "outputId": "3cb0d97b-de4a-46a3-b966-a263bcdff448"
      },
      "execution_count": null,
      "outputs": [
        {
          "output_type": "execute_result",
          "data": {
            "text/plain": [
              "ID                                    object\n",
              "Артериальная гипертензия               int64\n",
              "ОНМК                                   int64\n",
              "Стенокардия, ИБС, инфаркт миокарда     int64\n",
              "Сердечная недостаточность              int64\n",
              "Прочие заболевания сердца              int64\n",
              "dtype: object"
            ]
          },
          "metadata": {},
          "execution_count": 53
        }
      ]
    },
    {
      "cell_type": "markdown",
      "source": [
        "Посмотрим на прогнозируемые значения для каждой переменной:"
      ],
      "metadata": {
        "id": "bg9_rKXUyuNz"
      }
    },
    {
      "cell_type": "code",
      "source": [
        "sample['Артериальная гипертензия'].value_counts()"
      ],
      "metadata": {
        "colab": {
          "base_uri": "https://localhost:8080/"
        },
        "id": "y-6fUAX6sy94",
        "outputId": "ad14b5a4-df31-4908-d8d8-093b8870b48e"
      },
      "execution_count": null,
      "outputs": [
        {
          "output_type": "execute_result",
          "data": {
            "text/plain": [
              "1    351\n",
              "0    287\n",
              "Name: Артериальная гипертензия, dtype: int64"
            ]
          },
          "metadata": {},
          "execution_count": 54
        }
      ]
    },
    {
      "cell_type": "code",
      "source": [
        "sample['ОНМК'].value_counts()"
      ],
      "metadata": {
        "colab": {
          "base_uri": "https://localhost:8080/"
        },
        "id": "QpMn7MRcvT3d",
        "outputId": "fe33fdc5-ecc9-4586-ec26-86eaf2dd0ef6"
      },
      "execution_count": null,
      "outputs": [
        {
          "output_type": "execute_result",
          "data": {
            "text/plain": [
              "0    377\n",
              "1    261\n",
              "Name: ОНМК, dtype: int64"
            ]
          },
          "metadata": {},
          "execution_count": 55
        }
      ]
    },
    {
      "cell_type": "code",
      "source": [
        "sample['Стенокардия, ИБС, инфаркт миокарда'].value_counts()"
      ],
      "metadata": {
        "colab": {
          "base_uri": "https://localhost:8080/"
        },
        "id": "SChGulogvXl1",
        "outputId": "924b636c-38e8-4b08-bc6d-ce74bd685d4a"
      },
      "execution_count": null,
      "outputs": [
        {
          "output_type": "execute_result",
          "data": {
            "text/plain": [
              "0    435\n",
              "1    203\n",
              "Name: Стенокардия, ИБС, инфаркт миокарда, dtype: int64"
            ]
          },
          "metadata": {},
          "execution_count": 56
        }
      ]
    },
    {
      "cell_type": "code",
      "source": [
        "sample['Сердечная недостаточность'].value_counts()"
      ],
      "metadata": {
        "colab": {
          "base_uri": "https://localhost:8080/"
        },
        "id": "tUVhV_JwO1Xx",
        "outputId": "8bf427aa-6095-4060-b659-9a055fba2158"
      },
      "execution_count": null,
      "outputs": [
        {
          "output_type": "execute_result",
          "data": {
            "text/plain": [
              "0    381\n",
              "1    257\n",
              "Name: Сердечная недостаточность, dtype: int64"
            ]
          },
          "metadata": {},
          "execution_count": 57
        }
      ]
    },
    {
      "cell_type": "code",
      "source": [
        "sample['Прочие заболевания сердца'].value_counts()"
      ],
      "metadata": {
        "colab": {
          "base_uri": "https://localhost:8080/"
        },
        "id": "saJBnc-MO1ih",
        "outputId": "478076a1-5521-43ae-c6e3-1af8d2cbbe76"
      },
      "execution_count": null,
      "outputs": [
        {
          "output_type": "execute_result",
          "data": {
            "text/plain": [
              "1    338\n",
              "0    300\n",
              "Name: Прочие заболевания сердца, dtype: int64"
            ]
          },
          "metadata": {},
          "execution_count": 58
        }
      ]
    },
    {
      "cell_type": "markdown",
      "source": [
        "Сохраним финальный результат:"
      ],
      "metadata": {
        "id": "aSpWIYzhy2Ji"
      }
    },
    {
      "cell_type": "code",
      "source": [
        "sample.to_csv(\"submit_final.csv\", index=False)"
      ],
      "metadata": {
        "id": "LBocbQTlvePx"
      },
      "execution_count": null,
      "outputs": []
    },
    {
      "cell_type": "code",
      "source": [
        ""
      ],
      "metadata": {
        "id": "Js3TKIVWPhSU"
      },
      "execution_count": null,
      "outputs": []
    }
  ]
}